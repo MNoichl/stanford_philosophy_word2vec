{
 "cells": [
  {
   "cell_type": "markdown",
   "metadata": {},
   "source": [
    "# word2vec on the stanford encyclopedia\n"
   ]
  },
  {
   "cell_type": "code",
   "execution_count": 1,
   "metadata": {},
   "outputs": [
    {
     "name": "stderr",
     "output_type": "stream",
     "text": [
      "C:\\Users\\user\\Anaconda3\\lib\\site-packages\\gensim\\utils.py:1167: UserWarning: detected Windows; aliasing chunkize to chunkize_serial\n",
      "  warnings.warn(\"detected Windows; aliasing chunkize to chunkize_serial\")\n"
     ]
    }
   ],
   "source": [
    "\n",
    "import pandas as pd\n",
    "import numpy as np\n",
    "from random import randint\n",
    "import datetime\n",
    "\n",
    "\n",
    "%matplotlib inline\n",
    "\n",
    "import seaborn as sns\n",
    "import matplotlib.pyplot as plt\n",
    "\n",
    "#For Tables:\n",
    "from IPython.display import display\n",
    "pd.set_option('display.max_columns', 500)\n",
    "\n",
    "#For R (ggplot2)\n",
    "%load_ext rpy2.ipython\n",
    "\n",
    "from sklearn.feature_extraction.text import TfidfVectorizer,TfidfTransformer,CountVectorizer\n",
    "from sklearn import datasets\n",
    "from glob import glob\n",
    "from sklearn.preprocessing import LabelEncoder\n",
    "from sklearn.datasets import load_files\n",
    "from scipy import sparse\n",
    "import gensim\n",
    "import re\n",
    "import nltk\n",
    "from nltk.corpus import stopwords  \n",
    "\n",
    "import os\n",
    "from fnmatch import fnmatch\n",
    "\n"
   ]
  },
  {
   "cell_type": "markdown",
   "metadata": {},
   "source": [
    "Load the textual data:"
   ]
  },
  {
   "cell_type": "code",
   "execution_count": 2,
   "metadata": {
    "collapsed": true,
    "inputHidden": false,
    "outputHidden": false
   },
   "outputs": [],
   "source": [
    "# texts = load_files(\"./trainingdata\", \n",
    "#     description=None, #categories=categories, \n",
    "#     load_content=True, encoding='utf-8', shuffle=False)#, random_state=42)\n"
   ]
  },
  {
   "cell_type": "code",
   "execution_count": 3,
   "metadata": {
    "collapsed": true
   },
   "outputs": [],
   "source": [
    "# data = \" \".join(texts.data)\n",
    "# #"
   ]
  },
  {
   "cell_type": "code",
   "execution_count": 2,
   "metadata": {},
   "outputs": [
    {
     "name": "stdout",
     "output_type": "stream",
     "text": [
      "['./trainingdata\\\\17th and 18th Century Theories of Emotions\\\\17th and 18th Century Theories of Emotions.txt', './trainingdata\\\\18th Century British Aesthetics\\\\18th Century British Aesthetics.txt', './trainingdata\\\\18th Century French Aesthetics\\\\18th Century French Aesthetics.txt'] 1403\n"
     ]
    }
   ],
   "source": [
    "TRAINING_DATA_FOLDER = './trainingdata'\n",
    "\n",
    "def get_all_training_files_from_dir(root, pattern='*.txt'):\n",
    "    all_files = []\n",
    "    for path, subdirs, files in os.walk(root):\n",
    "        for name in files:\n",
    "            if fnmatch(name, pattern):\n",
    "                 all_files.append(os.path.join(path, name))\n",
    "                \n",
    "    return all_files\n",
    "\n",
    "# get all files and make sure it all makes sense\n",
    "all_sep_files = get_all_training_files_from_dir(TRAINING_DATA_FOLDER)\n",
    "print(all_sep_files[:3], len(all_sep_files))"
   ]
  },
  {
   "cell_type": "code",
   "execution_count": 3,
   "metadata": {},
   "outputs": [
    {
     "name": "stdout",
     "output_type": "stream",
     "text": [
      "['early', 'modern', 'philosophy', 'in', 'europe', 'and', 'great', 'britain', 'is', 'awash'] ['our', 'abilities', 'appear', 'to', 'be', 'indispensable', 'some', 'abilities', 'are', 'so']\n"
     ]
    }
   ],
   "source": [
    "texts = []\n",
    "for sep_file in all_sep_files:\n",
    "    with open(sep_file, encoding='utf-8') as f_in:\n",
    "        data = f_in.read().replace('\\n', '')\n",
    "        # just split on . and tokenize with gensim\n",
    "        texts.append(gensim.utils.simple_preprocess(data))\n",
    "# debug\n",
    "print(texts[0][:10], texts[10][10:20])"
   ]
  },
  {
   "cell_type": "code",
   "execution_count": 4,
   "metadata": {
    "collapsed": true
   },
   "outputs": [],
   "source": [
    "model = gensim.models.Word2Vec(texts, min_count=5)#, size=200, workers=10, window=5, iter=50)"
   ]
  },
  {
   "cell_type": "markdown",
   "metadata": {},
   "source": [
    "Get a list of philosophers names from wikipedia & clean it:"
   ]
  },
  {
   "cell_type": "code",
   "execution_count": 109,
   "metadata": {},
   "outputs": [
    {
     "name": "stdout",
     "output_type": "stream",
     "text": [
      "https://en.wikipedia.org/wiki/List_of_philosophers_(A%E2%80%93C)\n",
      "https://en.wikipedia.org/wiki/List_of_philosophers_(D%E2%80%93H)\n",
      "https://en.wikipedia.org/wiki/List_of_philosophers_(I%E2%80%93Q)\n",
      "https://en.wikipedia.org/wiki/List_of_philosophers_(R%E2%80%93Z)\n",
      "['Article', 'Category', 'Glossary', 'Outline', 'Portal', 'Adi Shankara', 'Nicola Abbagnano', 'Muhammad Abduh', 'Peter Abelard', 'Abhinavagupta', 'Isaac ben Judah Abravanel', 'Judah ben Isaac Abravanel', 'Marilyn McCord Adams', 'Robert Adams', 'Joseph Addison', 'Adelard of Bath', 'Alfred Adler', 'Theodor Adorno', 'Aenesidemus', 'Jamal al-Din al-Afghani', 'Rodolphus Agricola', 'Agrippa the Sceptic', 'Heinrich Cornelius Agrippa', \"Pierre d'Ailly\", 'Kazimierz Ajdukiewicz', 'Hans Albert', 'Albert of Saxony', 'Albertus Magnus', 'Joseph Albo', 'Alcinous', 'Alcmaeon of Croton', 'Virgil Aldrich', 'Yohanan ben Isaac Alemanno', 'Alexander of Aphrodisias', 'Alexander of Hales', 'Samuel Alexander', 'Dante Alighieri', 'Antonio Aliotta', 'Archibald Alison', 'Abd al-Jabiri', 'Abdullah al-Qasemi', 'William Alston', 'Johannes Althusius', 'Louis Althusser', 'Robert Alyngton', 'Bhimrao Ambedkar', 'Ambrose', \"Abu'l Hasan Muhammad Ibn Yusuf al-'Amiri\", 'Ammonius Hermiae', 'Ammonius Saccas', 'André-Marie Ampère', 'Anton Wilhelm Amo', 'Anaxagoras', 'Anaxarchus', 'fl.', 'Anaximander', 'Anaximenes of Miletus', 'Alan Ross Anderson', 'John Anderson', 'Ando Shoeki', 'Andronicus of Rhodes', 'Peter Annet', 'Anniceris', 'G. E. M. Anscombe', 'Anselm', 'Antiochus of Ascalon', 'Antiphon', 'Antisthenes', 'Karl-Otto Apel', 'Apuleius', 'Thomas Aquinas', 'Isaac ben Moses Arama', 'Arcesilaus', 'Archytas', 'Roberto Ardigò', 'Hannah Arendt', 'Aristippus of Cyrene', 'Aristo of Chios', 'Aristotle', 'Arius', 'Mohammed Arkoun', 'Jacobus Arminius', 'David Malet Armstrong', 'Antoine Arnauld', 'Matthew Arnold', 'Kenneth Arrow', 'Valentin Ferdinandovich Asmus', 'Mary Astell', 'Athanasius of Alexandria', 'Gwenaëlle Aubry', 'Augustine of Hippo', 'Marcus Aurelius', 'Peter Aureol', 'Sri Aurobindo', 'John Austin', 'John Langshaw Austin', 'Richard Avenarius', 'Averroes', 'Avicenna', 'Alfred Jules Ayer', 'Franz Xaver von Baader', 'Charles Babbage', 'Gaston Bachelard', 'Johann Jakob Bachofen', 'Francis Bacon', 'Roger Bacon', 'Alain Badiou', \"Hibat Allah Abu'l-Barakat al-Baghdaadi\", 'Annette Baier', 'Kurt Baier', 'Alexander Bain', 'Karl Friedrich Bahrdt', 'Lynne Rudder Baker', 'Mikhail Bakhtin', 'Mikhail Bakunin', 'Arthur Balfour', 'John Balguy', 'Domingo Báñez', 'Antonio Banfi', 'Abraham bar Hiyya Ha-Nasi', 'Jonathan Barnes', 'Brian Barry', 'Karl Barth', 'Roland Barthes', 'Bartolus de Saxoferrato', 'Johann Bernhard Basedow', 'Basilides', 'Georges Bataille', 'Charles Batteux', 'Jean Baudrillard', 'Bruno Bauer', 'David Baumgardt', 'Alexander Gottlieb Baumgarten', 'Pierre Bayle', 'Monroe Beardsley', 'James Beattie', 'Cesare, Marquis of Beccaria', 'Jakob Sigismund Beck', 'Vissarion Belinsky', 'Robert Bellarmine', 'Nuel Belnap', 'Friedrich Eduard Beneke', 'Walter Benjamin', 'Gottfried Benn', 'Jonathan Bennett', 'Jeremy Bentham', 'Richard Bentley', 'Nikolai Berdyaev', 'Gustav Bergmann', 'Henri Bergson', 'George Berkeley', 'Isaiah Berlin', 'Claude Bernard', 'Bernard of Chartres', 'Bernard of Clairvaux', 'Bernard Silvestris', 'François Bernier', 'Eduard Bernstein', 'Ludwig von Bertalanffy', 'Bhartrhari', 'Gabriel Biel', 'Georg Bernhard Bilfinger', 'Alfred Binet', 'Ludwig Binswanger', 'Max Black', 'Simon Blackburn', 'William Blackstone', 'Hugh Blair', 'William Blake', 'Maurice Blanchot', 'Brand Blanshard', 'Blasius of Parma', 'Ernst Bloch', 'Ned Block', 'Maurice Blondel', 'Charles Blount', 'Norberto Bobbio', 'Jean Bodin', 'Anicius Manlius Severinus Boethius', 'Boetius of Dacia', 'Alexander Bogdanov', 'Jakob Böhme', 'David Bohm', 'Niels Bohr', 'Nicolas Boileau-Despréaux', 'Samuel Bold', 'Henry St John, 1st Viscount Bolingbroke', 'Ludwig Boltzmann', 'Bernard Bolzano', 'Louis Gabriel Ambroise de Bonald', 'Francesco Bonatelli', 'Bonaventure', 'Dietrich Bonhoeffer', 'Charles Bonnet', 'George Boole', 'Bernard Bosanquet', 'Rudjer Boscovich', 'Pierre Bourdieu', 'Jacques-Bénigne Bossuet', 'Christopher Jacob Boström', 'Henri de Boulainvilliers', 'Emile Boutroux', 'Oets Kolk Bouwsma', 'Borden Parker Bowne', 'Robert Boyle', 'F. H. Bradley', 'Thomas Bradwardine', 'Richard-Bevan Braithwaite', 'Richard B. Brandt', 'Franz Brentano', 'Percy Williams Bridgman', 'Edgar S. Brightman', 'Jean Anthelme Brillat-Savarin', 'Richard Brinkley', 'Radulphus Brito', 'C. D. Broad', 'Luitzen Egbertus Jan Brouwer', 'Thomas Brown', 'Peter Browne', 'Orestes Brownson', 'Emil Brunner', 'Giordano Bruno', 'Leon Brunschvicg', 'James Bryce, 1st Viscount Bryce', 'Martin Buber', 'Justus Buchler', 'Ludwig Büchner', 'Henry Thomas Buckle', 'Malcolm Budd', 'Johann Franz Buddeus', 'Buddhaghosa', 'Claude Buffier', 'Georges-Louis Leclerc, Comte de Buffon', 'Sergei Nikolaevich Bulgakov', 'Edward Bullough', 'Rudolf Bultmann', 'Jacob Burckhardt', 'Tyler Burge', 'Jean Buridan', 'Edmund Burke', 'Walter Burley', 'Myles Frederic Burnyeat', 'Richard Burthogge', 'Joseph Butler', 'Samuel Butler', 'Pierre Jean George Cabanis', 'Amílcar Cabral', 'Edward Caird', 'Dorion Cairns', 'Thomas Cajetan', 'Calcidius', 'Mario Calderoni', 'Callicles', 'John Calvin', 'Tommaso Campanella', 'George Campbell', 'Norman Robert Campbell', 'Albert Camus', 'Georges Canguilhem', 'Georg Cantor', 'Johannes Capreolus', 'Claudia Card', 'Gerolamo Cardano', 'Thomas Carlyle', 'Gershom Carmichael', 'Rudolf Carnap', 'Carneades', 'Lewis Carroll', 'Nancy Cartwright', 'Carl Gustav Carus', 'Paul Carus', 'Antonio Caso', 'Ernst Cassirer', 'Hector-Neri Castañeda', 'Carlo Cattaneo', 'Stanley Cavell', 'Margaret Cavendish', 'Celsus of Alexandria', 'Michel de Certeau', 'Pyotr Chaadaev', 'Houston Stewart Chamberlain', 'Chanakya', \"Chang Hsueh-ch'eng\", 'Chang Tsai', 'William Ellery Channing', 'Walter Charleton', 'Pierre Charron', 'François-René de Chateaubriand', 'Walter Chatton', \"Ch'en Hsien-chang\", 'Cheng Hao', 'Cheng Hsuan', 'Cheng Yi', 'Nikolai Chernyshevsky', 'Chia Yi', 'Chiao Hung', 'Boris Chicherin', \"Ch'ien Mu\", 'Chih Tun', 'William Chillingworth', 'Roderick Chisholm', 'Noam Chomsky', 'Tasan Chông Yagyong', 'Chou Tun-Yi', 'Christine de Pizan', 'Chrysippus', 'Thomas Chubb', 'Alonzo Church', 'Patricia Churchland', 'Paul Churchland', 'Leon Chwistek', 'Cicero', 'August Cieszkowski', 'Emil Cioran', 'Hélène Cixous', 'Clarembald of Arras', 'Samuel Clarke', 'Johannes Clauberg', 'Cleanthes', 'Clement of Alexandria', 'Catherine Clément', 'Cleomedes', 'William Kingdon Clifford', 'Catherine Trotter Cockburn', 'Lorraine Code', 'G.A. Cohen', 'Hermann Cohen', 'L. Jonathan Cohen', 'Morris Raphael Cohen', 'Samuel Taylor Coleridge', 'John Colet', 'Lucio Colletti', 'Arthur Collier', 'R. G. Collingwood', 'Anthony Collins', 'John Comenius', 'Auguste Comte', 'Étienne Bonnot de Condillac', 'Marquis de Condorcet', 'Confucius', 'Benjamin Constant', 'Lady Anne Finch Conway', 'Nicolaus Copernicus', 'Henry Corbin', 'Geraud de Cordemoy', 'Moses ben Jacob Cordovero', 'Uriel da Costa', 'Antoine Augustin Cournot', 'Victor Cousin', 'Louis Couturat', 'William Crathorn', 'Cratylus', 'James Edwin Creighton', 'Hasdai Crescas', 'Benedetto Croce', 'Christian August Crusius', 'Ralph Cudworth', 'Nathaniel Culverwel', 'Richard Cumberland', 'Cyrano de Bergerac', 'Heinrich Czolbe', 'Article', 'Category', 'Glossary', 'Outline', 'Portal', \"Jean le Rond d'Alembert\", 'Damascius', 'Peter Damian', 'Arthur Danto', 'Charles Darwin', 'Erasmus Darwin', 'David of Dinant', 'David the Invincible', 'Donald Davidson', 'Jalal al-Din al-Dawani', 'Simone de Beauvoir', 'Bruno de Finetti', 'Joseph de Maistre', 'Paul de Man', 'Augustus De Morgan', 'Francesco de Sanctis', 'Richard Dedekind', 'Gilles Deleuze', 'Bernard Delfgaauw', 'Elijah Delmedigo', 'Giorgio Del Vecchio', 'Democritus', 'Daniel Dennett', 'Denys the Carthusian', 'Jacques Derrida', 'René Descartes', 'Robert Desgabets', 'Antoine Destutt de Tracy', 'Paul Deussen', 'Alejandro Deustua', 'John Dewey', 'Dharmakirti', 'Albert Venn Dicey', 'Denis Diderot', 'Dietrich of Freiberg', 'Kenelm Digby', 'Dignaga', 'Wilhelm Dilthey', 'Hugo Dingler', 'Diodorus Cronus', 'Diogenes Laërtius', 'Diogenes of Apollonia', 'Diogenes of Oenoanda', 'Diogenes the Cynic of Sinope', 'Dogen Zenji', 'Dong Zhongshu', 'Herman Dooyeweerd', 'Fyodor Dostoyevsky', 'Fred Dretske', 'Hans Adolf Eduard Driesch', 'Emil du Bois-Reymond', 'Jean-Baptiste Dubos', 'Émilie du Châtelet', 'Guillaume du Vair', 'Curt Ducasse', 'Pierre Duhem', 'Eugen Dühring', 'Michael Dummett', 'Duns Scotus', 'Profiat Duran', 'Simeon ben Zemah Duran', 'Durandus of St. Pourçain', 'Émile Durkheim', 'Ronald Dworkin', 'Jonathan Earle', 'John Earman', 'Johann Augustus Eberhard', 'Meister Eckhart', 'Umberto Eco', 'Arthur Stanley Eddington', 'Jonathan Edwards', 'Paul Edwards', 'Christian von Ehrenfels', 'Albert Einstein', 'Mircea Eliade', 'Elias', 'George Eliot', 'T. S. Eliot', 'Elisabeth of Bohemia', 'Jon Elster', 'Ralph Waldo Emerson', 'Empedocles', 'Friedrich Engels', 'Epicharmus', 'Epictetus', 'Epicurus', 'Desiderius Erasmus', 'Johannes Scotus Eriugena', 'Rudolf Christoph Eucken', 'Eudoxus of Cnidus', 'Eusebius of Caesarea', 'Gareth Evans', 'Emil Fackenheim', 'Thome H. Fang', 'Frantz Fanon', 'Al-Farabi', 'Michael Faraday', 'Michelangelo Fardella', 'Raimundo de Farias Brito', 'Austin Marsden Farrer', 'Fazang', 'Gustav Fechner', 'Andrew Feenberg', 'Valentin Feldman', 'Joel Feinberg', 'José Pablo Feinmann', 'François de Salignac de la Mothe-Fénelon', 'Feng Youlan', 'Adam Ferguson', 'Ann Ferguson', 'Jose Ferrater-Mora', 'Luigi Ferri', 'James Frederick Ferrier', 'Ludwig Feuerbach', 'Paul Feyerabend', 'Johann Gottlieb Fichte', 'Marsilio Ficino', 'Hartry Field', 'Robert Filmer', 'Eugen Fink', 'John Finnis', 'Kuno Fischer', 'Ronald Fisher', 'John Fiske', 'Pavel Aleksandrovich Florenskii', 'Georges Florovsky', 'Robert Fludd', 'Jerry Fodor', 'Robert J. Fogelin', 'Dagfinn Føllesdal', 'Pedro da Fonseca', 'Bernard le Bovier de Fontenelle', 'Philippa Foot', 'David Fordyce', 'Michel Foucault', 'Simon Foucher', 'Alfred Fouillée', 'Charles Fourier', 'Francis of Marchia', 'Francis of Meyronnes', 'Sebastian Franck', 'Jerome Frank', 'Erich Frank', 'Semën Liudvigovich Frank', 'William K. Frankena', 'Harry Gordon Frankfurt', 'Benjamin Franklin', 'Michael Frede', 'Gottlob Frege', 'Hans Frei', 'Sigmund Freud', 'Jakob Friedrich Fries', 'Friedrich Fröbel', 'Marilyn Frye', 'Fujiwara Seika', 'Lon L. Fuller', 'Nikolai Fyodorovich Fyodorov', 'Gadadhara Bhattacharya', 'Hans-Georg Gadamer', 'Gaius', 'Galen', 'Galileo Galilei', 'Pasquale Galluppi', 'Rafael Gambra Ciudad', 'Mahatma Gandhi', 'Gangeśa', 'Réginald Garrigou-Lagrange', 'Christian Garve', 'Pierre Gassendi', 'Gaunilo', 'Aksapada Gautama', 'Siddhartha Gautama', 'David Gauthier', 'John Gay', 'Peter Geach', 'Arnold Gehlen', 'Antonio Genovesi', 'Giovanni Gentile', 'Gerhard Gentzen', 'George of Trebizond', 'Gerard of Cremona', 'Gerard of Odo', 'Alexander Gerard', 'Gerbert of Aurillac', 'Giacinto Sigismondo Gerdil', 'Jean Gerson', 'Gersonides', 'Edmund Gettier', 'Arnold Geulincx', 'Alan Gewirth', 'Joseph Geyser', 'Al-Ghazali', 'Allan Gibbard', 'Edward Gibbon', 'Josiah Gibbs', 'Gilbert of Poitiers', 'Giles of Rome', 'Étienne Gilson', 'Asher Ginsberg', 'Vincenzo Gioberti', 'Joseph Glanvill', 'Jonathan Glover', 'Arthur de Gobineau', 'Rudolph Goclenius', 'Kurt Gödel', 'Godfrey of Fontaines', 'William Godwin', 'Johann Wolfgang Goethe', 'Friedrich Gogarten', 'Alvin Goldman', 'Gongsun Longzi', 'Nelson Goodman', 'Gorgias', 'Johann Christoph Gottsched', 'Marie de Gournay', 'Baltasar Gracián y Morales', 'Antonio Gramsci', 'Asa Gray', 'John Gray', 'Thomas Hill Green', 'Pope Gregory I', 'Gregory of Nazianzus', 'Gregory of Nyssa', 'Gregory of Rimini', 'Herbert Paul Grice', 'James Griffin', 'Germain Grisez', 'Robert Grosseteste', 'Reinhardt Grossmann', 'John Grote', 'Hugo Grotius', 'Adolf Grunbaum', 'Guan Zhong', 'Guo Xiang', 'Edmund Gurney', 'Aron Gurwitsch', 'Jürgen Habermas', 'Ian Hacking', 'Ernst Haeckel', 'Axel Anders Theodor Hagerstrom', 'Yehuda Halevi', 'Johann Georg Hamann', 'Octave Hamelin', 'Sir William Hamilton', 'David Walter Hamlyn', 'Stuart Hampshire', 'Hassan Hanafi', 'Han Feizi', 'Han Wonjin', 'Han Yu', 'Alastair Hannay', 'Eduard Hanslick', 'Norwood Russell Hanson', 'Sandra Harding', 'R. M. Hare', 'Gilbert Harman', 'Adolf von Harnack', 'James Harrington', 'William Torrey Harris', 'H. L. A. Hart', 'David Hartley', 'Eduard Von Hartmann', 'Nicolai Hartmann', 'Charles Hartshorne', 'William Harvey', 'Seiichi Hatano', 'Hayashi Razan', 'Friedrich Hayek', 'William Hazlitt', 'Christian Friedrich Hebbel', 'G.W.F. Hegel', 'Martin Heidegger', 'Carl Heim', 'Werner Heisenberg', 'Virginia Held', 'Hermann von Helmholtz', 'Franciscus Mercurius van Helmont', 'Claude Adrien Helvétius', 'Carl Gustav Hempel', 'Frans Hemsterhuis', 'Henricus Regius', 'Henry of Ghent', 'Henry of Harclay', 'Ronald William Hepburn', 'Heraclides Ponticus', 'Heraclitus of Ephesus', 'Johann Friedrich Herbart', 'Edward Herbert, 1st Baron Herbert of Cherbury', 'Johann Gottfried Herder', 'Abraham Cohen de Herrera', 'John Herschel', 'Heinrich Rudolf Hertz', 'Hervaeus Natalis', 'Alexander Herzen', 'Abraham Joshua Heschel', 'Hesiod', 'Moses Hess', 'Sergei Iosifovich Hessen', 'William of Heytesbury', 'John Hick', 'Laurens Perseus Hickok', 'Hierocles the Stoic', 'David Hilbert', 'Hildegard of Bingen', 'Hillel ben Samuel of Verona', 'Hermann Friedrich Wilhelm Hinrichs', 'Jaakko Hintikka', 'Hippias', 'Hippocrates', 'Ho Yen', 'Thomas Hobbes', 'Leonard Trelawny Hobhouse', 'William Ernest Hocking', 'Shadworth Hodgson', 'Harald Høffding', 'Wesley Newcomb Hohfeld', \"Baron d'Holbach\", 'Robert Holcot', 'Friedrich Hölderlin', 'Oliver Wendell Holmes, Jr.', 'Edwin Holt', 'Henry Home, Lord Kames', 'Homer', 'Richard Hönigswald', 'Sidney Hook', 'Richard Hooker', 'Max Horkheimer', 'Jennifer Hornsby', 'Paul Horwich', 'George Howison', \"Hsi K'ang\", 'Hsiung Shih-li', 'Hsu Fu-kuan', 'Hsu Hsing', 'Hu Hung', 'Hu Shi', 'Huai Nun Tzu', 'Huang Zongxi', 'Pierre Daniel Huet', 'Friedrich von Hügel', 'Hugh of St Victor', 'Hui Shi', 'Wilhelm von Humboldt', 'David Hume', 'Jan Hus', 'Edmund Husserl', 'Francis Hutcheson', 'Thomas Henry Huxley', 'Christiaan Huygens', 'Hypatia of Alexandria', 'Jean Hyppolite', 'Article', 'Category', 'Glossary', 'Outline', 'Portal', 'Iamblichus', 'Yahya ibn Adi', 'Ibn Arabi', 'Ibn ar-Rawandi', 'Ibn Bajjah', 'Ibn Daud', 'Abraham ibn Ezra', 'Moses ibn Ezra', 'Ibn Falaquera', 'Solomon Ibn Gabirol', 'Ibn Hazm', 'Ibn Kammuna', 'Ibn Khaldun', 'Ibn Masarra', 'Ibn Miskawayh', 'Bahya ibn Paquda', 'Ibn Sabin', 'Ibn Taymiya', 'Samuel ibn Tibbon', 'Ibn Tufail', 'Joseph ibn Tzaddik', \"Ivan Aleksandrovich Il'in\", 'Evald Vassilievich Ilyenkov', 'Immanuel the Roman', 'Roman Ingarden', 'William Ralph Inge', 'José Ingenieros', 'Nae Ionescu', 'Muhammad Iqbal', 'Luce Irigaray', 'Terence Irwin', 'Isocrates', 'Isaac of Stella', 'Isaac Israeli', 'Ito Jinsai', 'Vyacheslav Ivanovich Ivanov', 'Frank Jackson', 'Friedrich Heinrich Jacobi', 'James of Viterbo', 'Henry James Sr.', 'William James', 'Vladimir Jankélévitch', 'Karl Jaspers', 'James Hopwood Jeans', 'Thomas Jefferson', 'Richard C. Jeffrey', 'William Stanley Jevons', 'Rudolf von Jhering', 'Jinul', 'Joachim of Fiore', 'Friedrich Jodl', 'John of Damascus', 'John of Jandun', 'John of La Rochelle', 'John of Mirecourt', 'John of Paris', 'John of Salisbury', 'John of St. Thomas', 'John of the Cross', 'Alexander Bryan Johnson', 'Samuel Johnson', 'Samuel Johnson', 'Samuel Johnson', 'William Ernest Johnson', 'Jørgen Jørgensen', 'Théodore Simon Jouffroy', 'Judah ben Moses of Rome', 'Carl Jung', 'Ernst Jünger', 'Joachim Jungius', 'Justinian I', 'Al-Juwayni', 'Franz Kafka', 'Kaibara Ekiken', 'Kang Youwei', 'Immanuel Kant', 'Kao Tzu', 'David Kaplan', 'Mordecai Kaplan', 'Nikolai Ivanovich Kareev', 'Lev Platonovich Karsavin', 'Joseph Kaspi', 'Suzy Kassem', 'Walter Kaufmann', 'Karl Kautsky', 'Khedrup Gelek Pelzang', 'Konstantin Kavelin', 'Bartholomew Keckermann', 'Hans Kelsen', 'Norman Kemp Smith', 'Anthony Kenny', 'Johannes Kepler', 'John Maynard Keynes', 'Hermann Graf Keyserling', 'Aleksey Khomyakov', 'Søren Kierkegaard', 'Richard Kilvington', 'Robert Kilwardby', 'Jaegwon Kim', 'Al-Kindi', 'Martin Luther King, Jr.', 'Ivan Kireevsky', 'Patricia Kitcher', 'Ludwig Klages', 'Heinrich von Kleist', 'William Calvert Kneale', 'Martin Knutzen', 'Ko Hung', 'Kurt Koffka', 'Wolfgang Köhler', 'Alexandre Kojève', 'Alejandro Korn', 'Tadeusz Kotarbiński', 'Alexandre Koyre', 'Aleksei Aleksandrovich Kozlov', 'Karl Kraus', 'Karl Christian Friedrich Krause', 'Georg Kreisel', 'Saul Kripke', 'Julia Kristeva', 'Nachman Krochmal', 'Leopold Kronecker', 'Peter Kropotkin', 'Felix Krueger', 'Thomas Samuel Kuhn', 'Kūkai', 'Kuki Shūzō', 'Oswald Külpe', 'Kumazawa Banzan', 'Kuo Hsiang', 'Ernst Laas', 'Lucien Laberthonnière', 'Antonio Labriola', 'Jean de La Bruyère', 'Jacques Lacan', 'Jules Lachelier', 'Philippe Lacoue-Labarthe', 'Pierre Laffitte', 'Louis de La Forge', 'Imre Lakatos', 'André Lalande', 'Jean-Baptiste Lamarck', 'Johann Heinrich Lambert', 'Hughes Felicité Robert de Lamennais', 'Julien Offray de La Mettrie', 'François de La Mothe Le Vayer', 'Ludwig Landgrebe', 'Friedrich Albert Lange', 'Susanne Langer', 'Lao Zi', 'Isaac La Peyrère', 'Pierre-Simon Laplace', 'Ivan Ivanovich Lapshin', 'François de La Rochefoucauld', 'Pierre Laromiguière', 'Abdullah Laroui', 'Ferdinand Lassalle', 'Johann Kaspar Lavater', 'Louis Lavelle', 'Antoine Lavoisier', 'Peter Lavrovitch Lavrov', 'William Law', 'Jean Le Clerc', 'Michèle Le Dœuff', 'Henri Lefebvre', 'Antoine Le Grand', 'Keith Lehrer', 'Gottfried Leibniz', 'Yeshayahu Leibowitz', 'Vladimir Lenin', 'Leonardo da Vinci', \"Konstantin Nikolaevich Leont'ev\", 'Giacomo Leopardi', 'Jules Lequier', 'Pierre Leroux', 'Edouard Louis Emmanuel Julien Le Roy', 'René Le Senne', 'Stanisław Leśniewski', 'Gotthold Ephraim Lessing', 'Leucippus', 'Emmanuel Levinas', 'Claude Lévi-Strauss', 'Lucien Lévy-Bruhl', 'Kurt Lewin', 'Clarence Irving Lewis', 'C. S. Lewis', 'David Kellogg Lewis', 'Li Ao', 'Liang Qichao', 'Liang Sou-ming', 'Georg Christoph Lichtenberg', 'Arthur Liebert', 'Otto Liebmann', 'Liezi', 'Linji Yixuan', 'Carl Linnaeus', 'Theodor Lipps', 'Justus Lipsius', 'Émile Littré', 'Liu Shaoqi', 'Liu Tsung-chou', 'Genevieve Lloyd', 'Karl Nickerson Llywelyn', 'Ramon Llull', 'John Locke', 'Alfred Loisy', 'Peter Lombard', 'Bernard Lonergan', 'Pseudo-Longinus', 'Leo Mikhailovich Lopatin', 'Paul Lorenzen', 'Aleksei Fedorovich Losev', 'Nicholas Onufrievich Lossky', 'Yuri Lotman', 'Hermann Lotze', 'Arthur O. Lovejoy', 'John R. Lucas', 'Lucian', 'Lucretius', 'Lu Jiuyuan', 'Georg Lukács', 'Jan Łukasiewicz', 'Anatoliy Lunacharskiy', 'Martin Luther', 'Rosa Luxemburg', 'William Lycan', 'Jean-François Lyotard', 'Ernst Mach', 'Niccolò Machiavelli', 'Alasdair MacIntyre', 'John Leslie Mackie', 'Madhava', 'Shri Madhvacharya', 'Mahavira', 'Benoît de Maillet', 'Salomon Maimon', 'Abraham ben Moses Maimonides', 'Maimonides', 'Maine de Biran', 'John Major', 'Norman Malcolm', 'Nicolas Malebranche', 'Ernst Mally', 'André Malraux', 'Thomas Malthus', 'Merab Mamardashvili', 'Bernard de Mandeville', 'Mani', 'Karl Mannheim', 'Henry Longueville Mansel', 'Mao Zedong', 'Gabriel Marcel', 'Marcion', 'Ruth Barcan Marcus', 'Herbert Marcuse', 'Joseph Maréchal', 'Juan de Mariana', 'Julián Marías', 'Jacques Maritain', 'Gaius Marius Victorinus', 'Svetozar Marković', 'Odo Marquard', 'Marsilius of Inghen', 'Marsilius of Padua', 'Roger Marston', 'Charles B. Martin', 'Harriet Martineau', 'James Martineau', 'Piero Martinetti', 'Anton Marty', 'Marko Marulić', 'Karl Marx', 'Tomáš Masaryk', 'Damaris Cudworth Masham', 'Cotton Mather', 'Matthew of Aquasparta', 'Pierre Louis Maupertuis', 'Fritz Mauthner', 'James Clerk Maxwell', 'James McCosh', 'William McDougall', 'John McDowell', 'Evander Bradley McGilvary', 'Colin McGinn', 'John Ellis McTaggart', 'George Herbert Mead', 'Bartolomé de Medina', 'Georg Friedrich Meier', 'Friedrich Meinecke', 'Alexius Meinong', 'Philipp Melanchthon', 'Melissus of Samos', 'D. Hugh Mellor', 'Menasseh Ben Israel', 'Mencius', 'Gregor Mendel', 'Moses Mendelssohn', 'Désiré-Joseph Mercier', 'Maurice Merleau-Ponty', 'Marin Mersenne', 'Jean Meslier', 'Judah Messer Leon', 'Emile Meyerson', 'Conyers Middleton', 'Nikolai Konstantinovich Mikhailovskii', 'Miki Kiyoshi', 'Mikyo Dorje', 'Gaston Milhaud', 'James Mill', 'John Stuart Mill', 'John Millar', 'Dickinson Miller', 'Ruth Millikan', 'John Milton', 'Minagawa Kien', 'Mir Damad', 'Miura Baien', 'Jacob Moleschott', 'Luis de Molina', 'Enrique Molina Garmendia', 'Lord Monboddo', 'Richard Montague', 'William Pepperell Montague', 'Michel de Montaigne', 'Baron de Montesquieu', 'Edmund Montgomery', 'G. E. Moore', 'Henry More', 'Thomas More', 'C. Lloyd Morgan', 'Lewis H. Morgan', 'Thomas Morgan', 'Karl Philipp Moritz', 'Gaetano Mosca', 'Motoori Norinaga', 'Emmanuel Mounier', 'Mou Tsung-san', 'Mozi', 'David Ibn Merwan Al-Mukammas', 'Mulla Sadra', 'Iris Murdoch', 'Muro Kyuso', 'Arthur Edward Murphy', 'Musonius Rufus', 'Arne Næss', 'Nagarjuna', 'Ernest Nagel', 'Thomas Nagel', 'Nahmanides', 'Jacques-André Naigeon', 'Toju Nakae', 'Jean-Luc Nancy', 'Hossein Nasr', 'Paul Gerhard Natorp', 'Alexander Neckham', 'Leonard Nelson', 'Nemesius of Emesa', 'John von Neumann', 'Otto Neurath', 'John Henry Newman', 'Isaac Newton', 'Nichiren', 'Nicholas of Autrecourt', 'Nicholas of Cusa', 'Christoph Friedrich Nicolai', 'Pierre Nicole', 'H. Richard Niebuhr', 'Reinhold Niebuhr', 'Friedrich Nietzsche', 'Agostino Nifo', 'Nishi Amane', 'Nishida Kitaro', 'Nishitani Keiji', 'Kwame Nkrumah', 'John Norris', 'Novalis', 'Robert Nozick', 'Numenius of Apamea', 'Martha Nussbaum', 'Anders Nygren', 'Michael Oakeshott', 'William of Ockham', 'Ogyū Sorai', 'Lorenz Oken', 'Karl Olivecrona', 'Peter Olivi', 'Olympiodorus the Younger', 'John Wood Oman', \"Onora O'Neill\", 'Nicole Oresme', 'Origen of Alexandria', 'Isaac Orobio de Castro', 'Hans Christian Ørsted', 'José Ortega y Gasset', 'Wilhelm Ostwald', 'James Oswald', 'Rudolf Otto', 'Richard Overton', 'Gwilyn Ellis Lane Owen', 'Thomas Paine', 'Menyhért Palágyi', 'William Paley', 'Elihu Palmer', 'Panaetius', 'Wolfhart Pannenberg', 'David Papineau', 'Giovanni Papini', 'Paracelsus', 'Vilfredo Pareto', 'Derek Parfit', 'Theodore Parker', 'Parmenides', 'Blaise Pascal', 'John Arthur Passmore', 'Valentino Annibale Pastore', 'Patañjali', 'Walter Pater', 'Jan Patočka', 'Francesco Patrizi da Cherso', 'Akos Pauler', 'Linus Pauling', 'Paul of Venice', 'Friedrich Paulsen', 'Ivan Pavlov', 'Christopher Peacocke', 'Giuseppe Peano', 'David Pears', 'Karl Pearson', 'John Peckham', 'Benjamin Peirce', 'Charles Sanders Peirce', 'Pelagius', 'William Penbygull', 'Thomas Percival', 'Ralph Barton Perry', 'Johann Heinrich Pestalozzi', 'Peter of Auvergne', 'Peter of Spain', 'Pope John XXI', 'Richard Stanley Peters', 'Petrarch', 'Leon Petrazycki', 'Joane Petrizi', 'Branislav Petronijević', 'Petar II Petrović-Njegoš', 'Joseph Petzoldt', 'Alexander Pfänder', 'Philip the Chancellor', 'Philo Judaeus of Alexandria', 'Philo of Larissa', 'Philo the Dialectician', 'Philodemus of Gadara', 'Philolaus of Croton', 'Philo of Larissa', 'Philo of Megara', 'John Philoponus', 'Jean Piaget', 'Giovanni Pico della Mirandola', 'Dimitri Pisarev', 'Max Planck', 'Alvin Plantinga', 'Plato', 'Georgi Plekhanov', 'Helmuth Plessner', 'Gemistus Pletho', 'Plotinus', 'Gottfried Ploucquet', 'Mestrius Plutarch of Chaeronia', 'Henri Poincaré', 'Michael Polanyi', 'Pietro Pomponazzi', 'Alexander Pope', 'Karl Popper', 'Josef Popper-Lynkeus', 'Porphyry', 'Noah Porter', 'Posidonius', 'Richard Posner', 'Emil Leon Post', 'Robert Joseph Pothier', 'Roscoe Pound', 'Henry Habberley Price', 'Richard Price', 'Harold Arthur Prichard', 'Joseph Priestley', 'Andrew Seth Pringle-Pattison', 'Arthur Prior', 'Proclus', 'Prodicus', 'Protagoras', 'Pierre-Joseph Proudhon', 'Marcel Proust', 'Pseudo-Dionysius the Areopagite', 'Pseudo-Grosseteste', 'Ptolemy', 'Samuel Pufendorf', 'Hilary Putnam', 'Pyrrho', 'Pythagoras', 'Pandurang Shastri Athavale', 'Ismael Quiles', 'W. V. O. Quine', 'Anthony Quinton', 'Article', 'Category', 'Glossary', 'Outline', 'Portal', 'François Rabelais', 'Gustav Radbruch', 'Janet Radcliffe Richards', 'Sarvepalli Radhakrishnan', 'Assi Rahbani', 'Karl Rahner', 'Ramanuja', 'Frank P. Ramsey', 'Ian Thomas Ramsey', 'Paul Ramsey', 'Petrus Ramus', 'Jacques Rancière', 'Ram Gopal Varma', 'Ayn Rand', 'Hastings Rashdall', 'Felix Ravaisson-Mollien', 'John Rawls', 'John Ray', 'Daniel Raymond', 'Joseph Raz', 'Abu Bakr Muhammad ibn Zakariyya al-Razi', 'Fakhr al-Din al-Razi', 'Paul Ree', 'Pierre-Sylvain Regis', 'August Wilhelm Rehberg', 'Wilhelm Reich', 'Hans Reichenbach', 'Thomas Reid', 'Hermann Samuel Reimarus', 'Adolf Reinach', 'Karl Leonhard Reinhold', 'Karl Renner', 'Charles Bernard Renouvier', 'Nicholas Rescher', 'Rgyal tshab dar ma rin chen', 'David Ricardo', 'Richard of Middleton', 'Richard of St. Victor', 'Richard Rufus of Cornwall', 'I. A. Richards', 'Radovan Richta', 'Heinrich Rickert', 'Paul Ricœur', 'Bernhard Riemann', 'R.R. Rockingham Gill', 'Jacques Rohault', 'Erwin Rohde', 'Francisco Romero', 'Avital Ronell', 'Richard Rorty', 'Vasily Rozanov', 'Roscelin of Compiègne', 'Johann Karl Friedrich Rosenkranz', 'Franz Rosenzweig', 'Antonio Rosmini-Serbati', 'Alf Niels Christian Ross', 'William David Ross', 'Gian-Carlo Rota', 'Jean Jacques Rousseau', 'Claude Henri de Rouvroy, Comte de Saint-Simon', 'Joseph Rovan', 'Josiah Royce', 'Pierre Paul Royer-Collard', 'Vasily Rozanov', 'Ruan Ji', 'Arnold Ruge', 'Michael Ruse', 'Bertrand Russell', 'Jan van Ruysbroek', 'Gilbert Ryle', 'Saadia Gaon', 'Mulla Hadi Sabzevari', 'William S. Sahakian', 'Mark Sainsbury', 'Claude Henri de Rouvroy, Comte de Saint-Simon', 'Émile Saisset', 'Syed Zafarul Hasan', 'Nathan Salmon', 'Wesley Salmon', 'Francisco Sanches', 'Michael Sandel', 'George Santayana', 'Prabhat Rainjan Sarkar', 'Jean-Paul Sartre', 'Crispin Sartwell', 'John Ralston Saul', 'Ferdinand de Saussure', 'Fernando Savater', 'Friedrich Karl von Savigny', 'Julius Caesar Scaliger', 'Thomas Scanlon', 'Richard Schacht', 'Max Scheler', 'Friedrich Schelling', 'F. C. S. Schiller', 'Friedrich Schiller', 'Friedrich Schlegel', 'Hubert Schleichert', 'Friedrich Schleiermacher', 'Moritz Schlick', 'Carl Schmitt', 'J.B. Schneewind', 'Arthur Schopenhauer', 'Erwin Schrödinger', 'Gottlob Ernst Schulze', 'Joseph Schumpeter', 'Anna Maria van Schurman', 'Alfred Schütz', 'Albert Schweitzer', 'Roger Scruton', 'John Searle', 'Charles Secrétan', 'Michal Sedziwój', 'John Selden', 'Roy Wood Sellars', 'Wilfrid Sellars', 'Amartya Sen', 'Seneca the Younger', 'Sengzhao', 'John Sergeant', 'Michel Serres', 'Sextus Empiricus', 'Stanley Sfekas', 'Anthony Ashley-Cooper, 3rd Earl of Shaftesbury', 'Shah Wali Allah', 'Shang Yang', 'Adi Shankara', 'Shao Yung', 'Darius Shayegan', 'Shen Buhai', 'Shen Dao', 'Lev Shestov', 'Shinran', 'Sydney Shoemaker', 'Daryush Shokof', 'Gustav Gustavovich Shpet', 'Henry Sidgwick', 'Sigerus of Brabant', 'Heinrich Christoph Wilhelm Sigwart', 'Abu Sulayman Muhammad al-Sijistani', 'Francesco Silvestri', 'Georg Simmel', 'Simon of Faversham', 'Simplicius of Cilicia', 'Kurt Singer', 'Peter Singer', 'B. F. Skinner', 'Thoralf Skolem', 'Hryhori Skovoroda', 'Peter Sloterdijk', 'J. J. C. Smart', 'Adam Smith', ' Barry Smith', 'Huston Smith', 'Joseph Smith', 'Michael Smith', 'Raymond Smullyan', 'Joseph D. Sneed', 'Jan Sniadecki', 'Scott Soames', 'Elliott Sober', 'Socrates', 'Karl Wilhelm Ferdinand Solger', 'Joseph Soloveitchik', 'Vladimir Solovyov', 'Georges Sorel', 'William Ritchie Sorley', 'Abdolkarim Soroush', 'Ernest Sosa', 'Domingo de Soto', 'Othmar Spann', 'Herbert Spencer', 'Thomas Spencer Baynes', 'Oswald Spengler', 'Speusippus', 'Herbert Spiegelberg', 'Baruch Spinoza', 'Afrikan Spir', 'Gayatri Chakravorty Spivak', 'Lysander Spooner', 'Timothy L.S. Sprigge', 'Walter Terence Stace', 'Edward Stachura', 'Anne Louise Germaine de Staël', 'James Dalrymple, 1st Viscount Stair', 'Robert Stalnaker', 'Henry Stanton', 'Olaf Stapledon', 'Stanislaw Staszic', 'L. Susan Stebbing', 'Edith Stein', 'George Steiner', 'Rudolf Steiner', 'Leslie Stephen', 'Charles Leslie Stevenson', 'Dugald Stewart', 'Stephen Stich', 'Stilpo', 'James Hutchison Stirling', 'Max Stirner', 'George Frederick Stout', 'David Stove', 'Strato of Lampsacus', 'David Friedrich Strauss', 'Leo Strauss', 'Galen Strawson', 'P. F. Strawson', 'Barry Stroud', 'Carl Stumpf', 'Francisco Suárez', 'Gabrielle Suchon', 'Sun Tzu', 'Sun Yat-sen', 'Henry Suso', 'Karen Swassjan', 'Emanuel Swedenborg', 'Richard Swinburne', 'Syrianus', 'David Sztybel', 'Allama Tabatabai', 'Javad Tabatabaei', 'Debendranath Tagore', 'Rabindranath Tagore', 'Tai Chen', 'Hippolyte Taine', \"T'an Ssu-t'ung\", 'Tanabe Hajime', \"T'ang Chun-i\", 'Alfred Tarski', 'Wladyslaw Tatarkiewicz', 'Johannes Tauler', 'Nicolaus Taurellus', 'Abu Hayyan al-Tawhidi', 'Charles Taylor', 'Harriet Taylor Mill', 'Richard Taylor', 'Gustav Teichmuller', 'Pierre Teilhard de Chardin', 'Bernardino Telesio', 'Placide Tempels', 'William Temple', 'Frederick Robert Tennant', 'Teresa of Avila', 'Tertullian', 'Johannes Nikolaus Tetens', 'Thales', 'Themistius', 'Theodorus of Cyrene', 'Theophrastus', 'Helmut Thielicke', 'Thierry of Chartres', 'Thomas à Kempis', 'Thomas of Erfurt', 'Thomas of York', 'Christian Thomasius', 'William Thompson', 'Judith Jarvis Thomson', 'Henry David Thoreau', 'Thrasymachus', 'Thucydides', 'Paul Tillich', 'Timaeus of Locri', 'Timon of Phlius', 'Matthew Tindal', 'Alexis de Tocqueville', 'Tzvetan Todorov', 'John Toland', 'Francisco de Toledo', 'Leo Tolstoy', 'Tominaga Nakamoto', 'Friedrich Adolf Trendelenburg', 'Ernst Troeltsch', 'Leon Trotsky', 'Ehrenfried Walther von Tschirnhaus', 'Je Tsongkhapa', 'Abraham Tucker', 'Benjamin Tucker', 'Peter Tudvad', 'Ernst Tugendhat', 'Raimo Tuomela', 'Alan Turing', 'George Turnball', 'Nasir al-Din al-Tusi', 'Kazimierz Twardowski', 'Michael Tye', 'TK Neezar Ahmed', 'Pietro Ubaldi', 'Udayana', 'Uddyotakara', 'Uisang', 'Ulrich of Strasbourg', 'Hermann Ulrici', 'Miguel de Unamuno', 'Peter Unger', 'Dimitri Uznadze', 'Hans Vaihinger', 'Valentinius', 'Lorenzo Valla', 'Vallabhacharya', 'Bas C. van Fraassen', 'Peter van Inwagen', 'Giulio Cesare Vanini', 'Francisco Varela', 'Vasubandhu', 'Vatsyayana', 'Emerich de Vattel', 'Gianni Vattimo', 'Vauvenargues', 'Gabriel Vazquez', 'John Venn', 'Henry Babcock Veatch', 'Nicoletto Vernia', 'Giambattista Vico', 'Milan Vidmar', 'Michel Villey', 'Vital Du Four', 'Francisco de Vitoria', 'Juan Luís Vives', 'Gregory Vlastos', 'Eric Voegelin', 'Voltaire', 'Georg Henrik von Wright', 'Lev Vygotsky', 'Boris Petrovich Vysheslavtsev', 'Jean Wahl', 'Friedrich Waismann', 'Alfred Russel Wallace', 'Michael Walzer', 'Ernest Wamba dia Wamba', 'Wang Bi', \"Wang Ch'ung\", 'Wang Fuzhi', 'Hao Wang', 'Wang Yangming', 'James Ward', 'Geoffrey J. Warnock', 'Mary Warnock', 'John B. Watson', 'Watsuji Tetsuro', 'Alan Watts', 'Max Weber', 'Eric Weil', 'Simone Weil', 'Ota Weinberger', 'Otto Weininger', 'Christian Hermann Weisse', 'Victoria, Lady Welby', 'Felix Weltsch', 'Cornel West', 'Edvard Westermarck', 'Hermann Weyl', 'Frantisek Weyr', 'William Whewell', 'Benjamin Whichcote', 'Thomas White', 'Alfred North Whitehead', 'David Wiggins', 'William of Alnwick', 'William of Auvergne, Bishop of Paris', 'William of Auxerre', 'William of Champeaux', 'William of Conches', 'William of Moerbeke', 'William of Shyreswood', 'Bernard Williams', 'Timothy Williamson', 'Colin Wilson', 'John Cook Wilson', 'Peter Winch', 'Wilhelm Windelband', 'Kwasi Wiredu', 'John Wisdom', 'John Witherspoon', 'Stanisław Ignacy Witkiewicz', 'Ludwig Wittgenstein', 'Adam de Wodeham', 'Christian Wolff', 'William Wollaston', 'Richard Wollheim', 'Mary Wollstonecraft', 'Nicholas Wolterstorff', 'Wonchuk', 'Timothy K. Wong', 'Wonhyo Daisa', 'Woo Tsin-hang', 'Chauncey Wright', 'Crispin Wright', 'Dorothy Maud Wrinch', 'Jerzy Wróblewski', 'Wilhelm Wundt', 'John Wyclif', 'Xenocrates', 'Xenophanes', 'Xenophon', 'Xun Zi', 'Yamuna vihar Nishkam imaging solution', 'Yajnavalkya', 'Yang Chu', 'Yang Xiong', 'Yen Yuan', 'Yi Hwang', 'Yi I', 'Yi Kan', 'Francis Parker Yockey', 'Arthur M. Young', 'Iris Marion Young', 'Jacopo Zabarella', 'Edward N. Zalta', 'Peter Wessel Zapffe', 'Zeami Motokiyo', 'Eduard Zeller', 'Zeno of Citium', 'Zeno of Elea', 'Zeno of Sidon', 'Zeno of Tarsus', 'Ernst Zermelo', 'Philip Zhai', 'Zhiyi', 'Zhou Guoping', 'Zhu Xi', 'Zhuang Zi', 'Slavoj Žižek', 'Florian Znaniecki', 'Zongmi', 'Zou Yan', 'Xavier Zubiri']\n"
     ]
    }
   ],
   "source": [
    "from bs4 import BeautifulSoup\n",
    "import requests\n",
    "\n",
    "\n",
    "urls = ['https://en.wikipedia.org/wiki/List_of_philosophers_(A%E2%80%93C)', 'https://en.wikipedia.org/wiki/List_of_philosophers_(D%E2%80%93H)',\n",
    "       'https://en.wikipedia.org/wiki/List_of_philosophers_(I%E2%80%93Q)','https://en.wikipedia.org/wiki/List_of_philosophers_(R%E2%80%93Z)']\n",
    "philosophers = []\n",
    "for url in urls:\n",
    "    print(url)\n",
    "    response = requests.get(url)\n",
    "\n",
    "    soup = BeautifulSoup(response.content, \"html.parser\")\n",
    "    pagetext = soup.select(\"ul > li > a\") #soup.findAll('a')#, attrs={'class': 'reference'})\n",
    "\n",
    "\n",
    "    for a in pagetext:\n",
    "        text = a.get_text()\n",
    "        if text == 'Lists of philosophers':\n",
    "            break\n",
    "        philosophers.append(text)\n",
    "        \n",
    "\n",
    "# print(philosophers)"
   ]
  },
  {
   "cell_type": "code",
   "execution_count": 123,
   "metadata": {},
   "outputs": [],
   "source": [
    "philosophers_new = []\n",
    "bs = ['Article', 'Category', 'Glossary', 'Outline', 'Portal']\n",
    "for x in philosophers:\n",
    "    y = x.split(' ')\n",
    "    if not set(bs).isdisjoint(y):\n",
    "        pass\n",
    "    else:\n",
    "        if 'of' in y: \n",
    "            break\n",
    "            #philosophers_new.append(y[0])\n",
    "        else:\n",
    "            philosophers_new.append(y[-1])"
   ]
  },
  {
   "cell_type": "code",
   "execution_count": 164,
   "metadata": {},
   "outputs": [
    {
     "name": "stdout",
     "output_type": "stream",
     "text": [
      "There are 1022 philosophers in our list.\n"
     ]
    }
   ],
   "source": [
    "philosophers = []\n",
    "for x in philosophers_new:\n",
    "    if x.lower() in model.wv.vocab:\n",
    "        philosophers.append(x.lower())\n",
    "philosophers = list(set(philosophers))\n",
    "print('There are ' + str(len(philosophers)) + ' philosophers in our list.')"
   ]
  },
  {
   "cell_type": "markdown",
   "metadata": {},
   "source": [
    "Build a similarity-matrix:"
   ]
  },
  {
   "cell_type": "code",
   "execution_count": 132,
   "metadata": {},
   "outputs": [
    {
     "name": "stderr",
     "output_type": "stream",
     "text": [
      "C:\\Users\\user\\Anaconda3\\lib\\site-packages\\ipykernel_launcher.py:5: DeprecationWarning: Call to deprecated `similarity` (Method will be removed in 4.0.0, use self.wv.similarity() instead).\n",
      "  \"\"\"\n"
     ]
    }
   ],
   "source": [
    "philosophers_similarities = []\n",
    "for x in philosophers:\n",
    "    line = []\n",
    "    for y in philosophers:\n",
    "        line.append(model.similarity(x,y))\n",
    "    philosophers_similarities.append(line)\n",
    "\n",
    "\n"
   ]
  },
  {
   "cell_type": "code",
   "execution_count": 201,
   "metadata": {},
   "outputs": [
    {
     "data": {
      "text/plain": [
       "<matplotlib.axes._subplots.AxesSubplot at 0x206053cd198>"
      ]
     },
     "execution_count": 201,
     "metadata": {},
     "output_type": "execute_result"
    },
    {
     "data": {
      "image/png": "[encoded data removed]",
      "text/plain": [
       "<Figure size 432x288 with 2 Axes>"
      ]
     },
     "metadata": {
      "needs_background": "light"
     },
     "output_type": "display_data"
    }
   ],
   "source": [
    "# Build a heatmap of some random similarity-scores\n",
    "\n",
    "idx = np.random.randint(len(philosophers), size=10)\n",
    "philosophers_sample = np.array(philosophers_similarities)[idx,:][:,idx]\n",
    "index = [philosophers[i] for i in idx]\n",
    "\n",
    "df = pd.DataFrame(philosophers_sample, index=index, columns=index)\n",
    "ax = sns.heatmap(df)\n",
    "ax"
   ]
  },
  {
   "cell_type": "code",
   "execution_count": 226,
   "metadata": {},
   "outputs": [
    {
     "name": "stderr",
     "output_type": "stream",
     "text": [
      "C:\\Users\\user\\Anaconda3\\lib\\site-packages\\ipykernel_launcher.py:7: DeprecationWarning: Call to deprecated `__getitem__` (Method will be removed in 4.0.0, use self.wv.__getitem__() instead).\n",
      "  import sys\n"
     ]
    }
   ],
   "source": [
    "import umap\n",
    "from sklearn import manifold, datasets\n",
    "\n",
    "\n",
    "x = np.array(philosophers_similarities)\n",
    "# U = model[model.wv.vocab]\n",
    "U = model[philosophers]\n",
    "\n",
    "\n",
    "# embedding = manifold.TSNE(n_components=2, init='random',\n",
    "#                          random_state=0, metric='precomputed'\n",
    "#                           ,perplexity=30).fit_transform(U)\n",
    "\n",
    "\n",
    "embedding = umap.UMAP(n_neighbors=5,#small => local, large => global: 5-50\n",
    "                      min_dist=0.01, metric='euclidean'\n",
    "                      ).fit_transform(U)"
   ]
  },
  {
   "cell_type": "code",
   "execution_count": 228,
   "metadata": {},
   "outputs": [
    {
     "data": {
      "image/png": "[encoded data removed]",
      "text/plain": [
       "<Figure size 432x288 with 1 Axes>"
      ]
     },
     "metadata": {
      "needs_background": "light"
     },
     "output_type": "display_data"
    }
   ],
   "source": [
    "embedding_df = pd.DataFrame(embedding)\n",
    "embedding_df.columns = ['x','y']\n",
    "plt.scatter(embedding_df['x'], embedding_df['y'], color='grey',s=10)\n",
    "embedding_df['label'] = philosophers# list(model.wv.vocab.keys())"
   ]
  },
  {
   "cell_type": "code",
   "execution_count": 229,
   "metadata": {},
   "outputs": [
    {
     "data": {
      "text/html": [
       "\n",
       "    <div class=\"bk-root\">\n",
       "        <a href=\"https://bokeh.pydata.org\" target=\"_blank\" class=\"bk-logo bk-logo-small bk-logo-notebook\"></a>\n",
       "        <span id=\"8b4431c8-5793-4754-a15b-8fff084f7437\">Loading BokehJS ...</span>\n",
       "    </div>"
      ]
     },
     "metadata": {},
     "output_type": "display_data"
    },
    {
     "data": {
      "application/javascript": [
       "\n",
       "(function(root) {\n",
       "  function now() {\n",
       "    return new Date();\n",
       "  }\n",
       "\n",
       "  var force = true;\n",
       "\n",
       "  if (typeof (root._bokeh_onload_callbacks) === \"undefined\" || force === true) {\n",
       "    root._bokeh_onload_callbacks = [];\n",
       "    root._bokeh_is_loading = undefined;\n",
       "  }\n",
       "\n",
       "  var JS_MIME_TYPE = 'application/javascript';\n",
       "  var HTML_MIME_TYPE = 'text/html';\n",
       "  var EXEC_MIME_TYPE = 'application/vnd.bokehjs_exec.v0+json';\n",
       "  var CLASS_NAME = 'output_bokeh rendered_html';\n",
       "\n",
       "  /**\n",
       "   * Render data to the DOM node\n",
       "   */\n",
       "  function render(props, node) {\n",
       "    var script = document.createElement(\"script\");\n",
       "    node.appendChild(script);\n",
       "  }\n",
       "\n",
       "  /**\n",
       "   * Handle when an output is cleared or removed\n",
       "   */\n",
       "  function handleClearOutput(event, handle) {\n",
       "    var cell = handle.cell;\n",
       "\n",
       "    var id = cell.output_area._bokeh_element_id;\n",
       "    var server_id = cell.output_area._bokeh_server_id;\n",
       "    // Clean up Bokeh references\n",
       "    if (id != null && id in Bokeh.index) {\n",
       "      Bokeh.index[id].model.document.clear();\n",
       "      delete Bokeh.index[id];\n",
       "    }\n",
       "\n",
       "    if (server_id !== undefined) {\n",
       "      // Clean up Bokeh references\n",
       "      var cmd = \"from bokeh.io.state import curstate; print(curstate().uuid_to_server['\" + server_id + \"'].get_sessions()[0].document.roots[0]._id)\";\n",
       "      cell.notebook.kernel.execute(cmd, {\n",
       "        iopub: {\n",
       "          output: function(msg) {\n",
       "            var id = msg.content.text.trim();\n",
       "            if (id in Bokeh.index) {\n",
       "              Bokeh.index[id].model.document.clear();\n",
       "              delete Bokeh.index[id];\n",
       "            }\n",
       "          }\n",
       "        }\n",
       "      });\n",
       "      // Destroy server and session\n",
       "      var cmd = \"import bokeh.io.notebook as ion; ion.destroy_server('\" + server_id + \"')\";\n",
       "      cell.notebook.kernel.execute(cmd);\n",
       "    }\n",
       "  }\n",
       "\n",
       "  /**\n",
       "   * Handle when a new output is added\n",
       "   */\n",
       "  function handleAddOutput(event, handle) {\n",
       "    var output_area = handle.output_area;\n",
       "    var output = handle.output;\n",
       "\n",
       "    // limit handleAddOutput to display_data with EXEC_MIME_TYPE content only\n",
       "    if ((output.output_type != \"display_data\") || (!output.data.hasOwnProperty(EXEC_MIME_TYPE))) {\n",
       "      return\n",
       "    }\n",
       "\n",
       "    var toinsert = output_area.element.find(\".\" + CLASS_NAME.split(' ')[0]);\n",
       "\n",
       "    if (output.metadata[EXEC_MIME_TYPE][\"id\"] !== undefined) {\n",
       "      toinsert[toinsert.length - 1].firstChild.textContent = output.data[JS_MIME_TYPE];\n",
       "      // store reference to embed id on output_area\n",
       "      output_area._bokeh_element_id = output.metadata[EXEC_MIME_TYPE][\"id\"];\n",
       "    }\n",
       "    if (output.metadata[EXEC_MIME_TYPE][\"server_id\"] !== undefined) {\n",
       "      var bk_div = document.createElement(\"div\");\n",
       "      bk_div.innerHTML = output.data[HTML_MIME_TYPE];\n",
       "      var script_attrs = bk_div.children[0].attributes;\n",
       "      for (var i = 0; i < script_attrs.length; i++) {\n",
       "        toinsert[toinsert.length - 1].firstChild.setAttribute(script_attrs[i].name, script_attrs[i].value);\n",
       "      }\n",
       "      // store reference to server id on output_area\n",
       "      output_area._bokeh_server_id = output.metadata[EXEC_MIME_TYPE][\"server_id\"];\n",
       "    }\n",
       "  }\n",
       "\n",
       "  function register_renderer(events, OutputArea) {\n",
       "\n",
       "    function append_mime(data, metadata, element) {\n",
       "      // create a DOM node to render to\n",
       "      var toinsert = this.create_output_subarea(\n",
       "        metadata,\n",
       "        CLASS_NAME,\n",
       "        EXEC_MIME_TYPE\n",
       "      );\n",
       "      this.keyboard_manager.register_events(toinsert);\n",
       "      // Render to node\n",
       "      var props = {data: data, metadata: metadata[EXEC_MIME_TYPE]};\n",
       "      render(props, toinsert[toinsert.length - 1]);\n",
       "      element.append(toinsert);\n",
       "      return toinsert\n",
       "    }\n",
       "\n",
       "    /* Handle when an output is cleared or removed */\n",
       "    events.on('clear_output.CodeCell', handleClearOutput);\n",
       "    events.on('delete.Cell', handleClearOutput);\n",
       "\n",
       "    /* Handle when a new output is added */\n",
       "    events.on('output_added.OutputArea', handleAddOutput);\n",
       "\n",
       "    /**\n",
       "     * Register the mime type and append_mime function with output_area\n",
       "     */\n",
       "    OutputArea.prototype.register_mime_type(EXEC_MIME_TYPE, append_mime, {\n",
       "      /* Is output safe? */\n",
       "      safe: true,\n",
       "      /* Index of renderer in `output_area.display_order` */\n",
       "      index: 0\n",
       "    });\n",
       "  }\n",
       "\n",
       "  // register the mime type if in Jupyter Notebook environment and previously unregistered\n",
       "  if (root.Jupyter !== undefined) {\n",
       "    var events = require('base/js/events');\n",
       "    var OutputArea = require('notebook/js/outputarea').OutputArea;\n",
       "\n",
       "    if (OutputArea.prototype.mime_types().indexOf(EXEC_MIME_TYPE) == -1) {\n",
       "      register_renderer(events, OutputArea);\n",
       "    }\n",
       "  }\n",
       "\n",
       "  \n",
       "  if (typeof (root._bokeh_timeout) === \"undefined\" || force === true) {\n",
       "    root._bokeh_timeout = Date.now() + 5000;\n",
       "    root._bokeh_failed_load = false;\n",
       "  }\n",
       "\n",
       "  var NB_LOAD_WARNING = {'data': {'text/html':\n",
       "     \"<div style='background-color: #fdd'>\\n\"+\n",
       "     \"<p>\\n\"+\n",
       "     \"BokehJS does not appear to have successfully loaded. If loading BokehJS from CDN, this \\n\"+\n",
       "     \"may be due to a slow or bad network connection. Possible fixes:\\n\"+\n",
       "     \"</p>\\n\"+\n",
       "     \"<ul>\\n\"+\n",
       "     \"<li>re-rerun `output_notebook()` to attempt to load from CDN again, or</li>\\n\"+\n",
       "     \"<li>use INLINE resources instead, as so:</li>\\n\"+\n",
       "     \"</ul>\\n\"+\n",
       "     \"<code>\\n\"+\n",
       "     \"from bokeh.resources import INLINE\\n\"+\n",
       "     \"output_notebook(resources=INLINE)\\n\"+\n",
       "     \"</code>\\n\"+\n",
       "     \"</div>\"}};\n",
       "\n",
       "  function display_loaded() {\n",
       "    var el = document.getElementById(\"8b4431c8-5793-4754-a15b-8fff084f7437\");\n",
       "    if (el != null) {\n",
       "      el.textContent = \"BokehJS is loading...\";\n",
       "    }\n",
       "    if (root.Bokeh !== undefined) {\n",
       "      if (el != null) {\n",
       "        el.textContent = \"BokehJS \" + root.Bokeh.version + \" successfully loaded.\";\n",
       "      }\n",
       "    } else if (Date.now() < root._bokeh_timeout) {\n",
       "      setTimeout(display_loaded, 100)\n",
       "    }\n",
       "  }\n",
       "\n",
       "\n",
       "  function run_callbacks() {\n",
       "    try {\n",
       "      root._bokeh_onload_callbacks.forEach(function(callback) { callback() });\n",
       "    }\n",
       "    finally {\n",
       "      delete root._bokeh_onload_callbacks\n",
       "    }\n",
       "    console.info(\"Bokeh: all callbacks have finished\");\n",
       "  }\n",
       "\n",
       "  function load_libs(js_urls, callback) {\n",
       "    root._bokeh_onload_callbacks.push(callback);\n",
       "    if (root._bokeh_is_loading > 0) {\n",
       "      console.log(\"Bokeh: BokehJS is being loaded, scheduling callback at\", now());\n",
       "      return null;\n",
       "    }\n",
       "    if (js_urls == null || js_urls.length === 0) {\n",
       "      run_callbacks();\n",
       "      return null;\n",
       "    }\n",
       "    console.log(\"Bokeh: BokehJS not loaded, scheduling load and callback at\", now());\n",
       "    root._bokeh_is_loading = js_urls.length;\n",
       "    for (var i = 0; i < js_urls.length; i++) {\n",
       "      var url = js_urls[i];\n",
       "      var s = document.createElement('script');\n",
       "      s.src = url;\n",
       "      s.async = false;\n",
       "      s.onreadystatechange = s.onload = function() {\n",
       "        root._bokeh_is_loading--;\n",
       "        if (root._bokeh_is_loading === 0) {\n",
       "          console.log(\"Bokeh: all BokehJS libraries loaded\");\n",
       "          run_callbacks()\n",
       "        }\n",
       "      };\n",
       "      s.onerror = function() {\n",
       "        console.warn(\"failed to load library \" + url);\n",
       "      };\n",
       "      console.log(\"Bokeh: injecting script tag for BokehJS library: \", url);\n",
       "      document.getElementsByTagName(\"head\")[0].appendChild(s);\n",
       "    }\n",
       "  };var element = document.getElementById(\"8b4431c8-5793-4754-a15b-8fff084f7437\");\n",
       "  if (element == null) {\n",
       "    console.log(\"Bokeh: ERROR: autoload.js configured with elementid '8b4431c8-5793-4754-a15b-8fff084f7437' but no matching script tag was found. \")\n",
       "    return false;\n",
       "  }\n",
       "\n",
       "  var js_urls = [\"https://cdn.pydata.org/bokeh/release/bokeh-0.13.0.min.js\", \"https://cdn.pydata.org/bokeh/release/bokeh-widgets-0.13.0.min.js\", \"https://cdn.pydata.org/bokeh/release/bokeh-tables-0.13.0.min.js\", \"https://cdn.pydata.org/bokeh/release/bokeh-gl-0.13.0.min.js\"];\n",
       "\n",
       "  var inline_js = [\n",
       "    function(Bokeh) {\n",
       "      Bokeh.set_log_level(\"info\");\n",
       "    },\n",
       "    \n",
       "    function(Bokeh) {\n",
       "      \n",
       "    },\n",
       "    function(Bokeh) {\n",
       "      console.log(\"Bokeh: injecting CSS: https://cdn.pydata.org/bokeh/release/bokeh-0.13.0.min.css\");\n",
       "      Bokeh.embed.inject_css(\"https://cdn.pydata.org/bokeh/release/bokeh-0.13.0.min.css\");\n",
       "      console.log(\"Bokeh: injecting CSS: https://cdn.pydata.org/bokeh/release/bokeh-widgets-0.13.0.min.css\");\n",
       "      Bokeh.embed.inject_css(\"https://cdn.pydata.org/bokeh/release/bokeh-widgets-0.13.0.min.css\");\n",
       "      console.log(\"Bokeh: injecting CSS: https://cdn.pydata.org/bokeh/release/bokeh-tables-0.13.0.min.css\");\n",
       "      Bokeh.embed.inject_css(\"https://cdn.pydata.org/bokeh/release/bokeh-tables-0.13.0.min.css\");\n",
       "    }\n",
       "  ];\n",
       "\n",
       "  function run_inline_js() {\n",
       "    \n",
       "    if ((root.Bokeh !== undefined) || (force === true)) {\n",
       "      for (var i = 0; i < inline_js.length; i++) {\n",
       "        inline_js[i].call(root, root.Bokeh);\n",
       "      }if (force === true) {\n",
       "        display_loaded();\n",
       "      }} else if (Date.now() < root._bokeh_timeout) {\n",
       "      setTimeout(run_inline_js, 100);\n",
       "    } else if (!root._bokeh_failed_load) {\n",
       "      console.log(\"Bokeh: BokehJS failed to load within specified timeout.\");\n",
       "      root._bokeh_failed_load = true;\n",
       "    } else if (force !== true) {\n",
       "      var cell = $(document.getElementById(\"8b4431c8-5793-4754-a15b-8fff084f7437\")).parents('.cell').data().cell;\n",
       "      cell.output_area.append_execute_result(NB_LOAD_WARNING)\n",
       "    }\n",
       "\n",
       "  }\n",
       "\n",
       "  if (root._bokeh_is_loading === 0) {\n",
       "    console.log(\"Bokeh: BokehJS loaded, going straight to plotting\");\n",
       "    run_inline_js();\n",
       "  } else {\n",
       "    load_libs(js_urls, function() {\n",
       "      console.log(\"Bokeh: BokehJS plotting callback run at\", now());\n",
       "      run_inline_js();\n",
       "    });\n",
       "  }\n",
       "}(window));"
      ],
      "application/vnd.bokehjs_load.v0+json": "\n(function(root) {\n  function now() {\n    return new Date();\n  }\n\n  var force = true;\n\n  if (typeof (root._bokeh_onload_callbacks) === \"undefined\" || force === true) {\n    root._bokeh_onload_callbacks = [];\n    root._bokeh_is_loading = undefined;\n  }\n\n  \n\n  \n  if (typeof (root._bokeh_timeout) === \"undefined\" || force === true) {\n    root._bokeh_timeout = Date.now() + 5000;\n    root._bokeh_failed_load = false;\n  }\n\n  var NB_LOAD_WARNING = {'data': {'text/html':\n     \"<div style='background-color: #fdd'>\\n\"+\n     \"<p>\\n\"+\n     \"BokehJS does not appear to have successfully loaded. If loading BokehJS from CDN, this \\n\"+\n     \"may be due to a slow or bad network connection. Possible fixes:\\n\"+\n     \"</p>\\n\"+\n     \"<ul>\\n\"+\n     \"<li>re-rerun `output_notebook()` to attempt to load from CDN again, or</li>\\n\"+\n     \"<li>use INLINE resources instead, as so:</li>\\n\"+\n     \"</ul>\\n\"+\n     \"<code>\\n\"+\n     \"from bokeh.resources import INLINE\\n\"+\n     \"output_notebook(resources=INLINE)\\n\"+\n     \"</code>\\n\"+\n     \"</div>\"}};\n\n  function display_loaded() {\n    var el = document.getElementById(\"8b4431c8-5793-4754-a15b-8fff084f7437\");\n    if (el != null) {\n      el.textContent = \"BokehJS is loading...\";\n    }\n    if (root.Bokeh !== undefined) {\n      if (el != null) {\n        el.textContent = \"BokehJS \" + root.Bokeh.version + \" successfully loaded.\";\n      }\n    } else if (Date.now() < root._bokeh_timeout) {\n      setTimeout(display_loaded, 100)\n    }\n  }\n\n\n  function run_callbacks() {\n    try {\n      root._bokeh_onload_callbacks.forEach(function(callback) { callback() });\n    }\n    finally {\n      delete root._bokeh_onload_callbacks\n    }\n    console.info(\"Bokeh: all callbacks have finished\");\n  }\n\n  function load_libs(js_urls, callback) {\n    root._bokeh_onload_callbacks.push(callback);\n    if (root._bokeh_is_loading > 0) {\n      console.log(\"Bokeh: BokehJS is being loaded, scheduling callback at\", now());\n      return null;\n    }\n    if (js_urls == null || js_urls.length === 0) {\n      run_callbacks();\n      return null;\n    }\n    console.log(\"Bokeh: BokehJS not loaded, scheduling load and callback at\", now());\n    root._bokeh_is_loading = js_urls.length;\n    for (var i = 0; i < js_urls.length; i++) {\n      var url = js_urls[i];\n      var s = document.createElement('script');\n      s.src = url;\n      s.async = false;\n      s.onreadystatechange = s.onload = function() {\n        root._bokeh_is_loading--;\n        if (root._bokeh_is_loading === 0) {\n          console.log(\"Bokeh: all BokehJS libraries loaded\");\n          run_callbacks()\n        }\n      };\n      s.onerror = function() {\n        console.warn(\"failed to load library \" + url);\n      };\n      console.log(\"Bokeh: injecting script tag for BokehJS library: \", url);\n      document.getElementsByTagName(\"head\")[0].appendChild(s);\n    }\n  };var element = document.getElementById(\"8b4431c8-5793-4754-a15b-8fff084f7437\");\n  if (element == null) {\n    console.log(\"Bokeh: ERROR: autoload.js configured with elementid '8b4431c8-5793-4754-a15b-8fff084f7437' but no matching script tag was found. \")\n    return false;\n  }\n\n  var js_urls = [\"https://cdn.pydata.org/bokeh/release/bokeh-0.13.0.min.js\", \"https://cdn.pydata.org/bokeh/release/bokeh-widgets-0.13.0.min.js\", \"https://cdn.pydata.org/bokeh/release/bokeh-tables-0.13.0.min.js\", \"https://cdn.pydata.org/bokeh/release/bokeh-gl-0.13.0.min.js\"];\n\n  var inline_js = [\n    function(Bokeh) {\n      Bokeh.set_log_level(\"info\");\n    },\n    \n    function(Bokeh) {\n      \n    },\n    function(Bokeh) {\n      console.log(\"Bokeh: injecting CSS: https://cdn.pydata.org/bokeh/release/bokeh-0.13.0.min.css\");\n      Bokeh.embed.inject_css(\"https://cdn.pydata.org/bokeh/release/bokeh-0.13.0.min.css\");\n      console.log(\"Bokeh: injecting CSS: https://cdn.pydata.org/bokeh/release/bokeh-widgets-0.13.0.min.css\");\n      Bokeh.embed.inject_css(\"https://cdn.pydata.org/bokeh/release/bokeh-widgets-0.13.0.min.css\");\n      console.log(\"Bokeh: injecting CSS: https://cdn.pydata.org/bokeh/release/bokeh-tables-0.13.0.min.css\");\n      Bokeh.embed.inject_css(\"https://cdn.pydata.org/bokeh/release/bokeh-tables-0.13.0.min.css\");\n    }\n  ];\n\n  function run_inline_js() {\n    \n    if ((root.Bokeh !== undefined) || (force === true)) {\n      for (var i = 0; i < inline_js.length; i++) {\n        inline_js[i].call(root, root.Bokeh);\n      }if (force === true) {\n        display_loaded();\n      }} else if (Date.now() < root._bokeh_timeout) {\n      setTimeout(run_inline_js, 100);\n    } else if (!root._bokeh_failed_load) {\n      console.log(\"Bokeh: BokehJS failed to load within specified timeout.\");\n      root._bokeh_failed_load = true;\n    } else if (force !== true) {\n      var cell = $(document.getElementById(\"8b4431c8-5793-4754-a15b-8fff084f7437\")).parents('.cell').data().cell;\n      cell.output_area.append_execute_result(NB_LOAD_WARNING)\n    }\n\n  }\n\n  if (root._bokeh_is_loading === 0) {\n    console.log(\"Bokeh: BokehJS loaded, going straight to plotting\");\n    run_inline_js();\n  } else {\n    load_libs(js_urls, function() {\n      console.log(\"Bokeh: BokehJS plotting callback run at\", now());\n      run_inline_js();\n    });\n  }\n}(window));"
     },
     "metadata": {},
     "output_type": "display_data"
    },
    {
     "data": {
      "text/html": [
       "\n",
       "\n",
       "\n",
       "\n",
       "\n",
       "\n",
       "  <div class=\"bk-root\" id=\"af2f4437-312f-45aa-956e-222d246b4a80\"></div>\n"
      ]
     },
     "metadata": {},
     "output_type": "display_data"
    },
    {
     "data": {
      "application/javascript": [
       "(function(root) {\n",
       "  function embed_document(root) {\n",
       "    \n",
       "  var docs_json = {\"03b6fa35-23cf-443e-b2a0-99675512cd9a\":{\"roots\":{\"references\":[{\"attributes\":{\"dimension\":1,\"plot\":{\"id\":\"dbe023a1-11f5-4143-9109-c420a8c9f360\",\"subtype\":\"Figure\",\"type\":\"Plot\"},\"ticker\":{\"id\":\"af6062de-5593-4afd-94d4-d77cbd495c8f\",\"type\":\"BasicTicker\"}},\"id\":\"4665f95e-8aeb-474f-b6a1-e3f6579ce7ae\",\"type\":\"Grid\"},{\"attributes\":{\"fill_alpha\":{\"value\":0.6},\"fill_color\":{\"value\":\"#483D8B\"},\"line_color\":{\"value\":null},\"size\":{\"units\":\"screen\",\"value\":5},\"x\":{\"field\":\"x\"},\"y\":{\"field\":\"y\"}},\"id\":\"9d8ff35c-e8e3-48a1-8a55-287317c2b14b\",\"type\":\"Circle\"},{\"attributes\":{\"callback\":null},\"id\":\"f193c3a8-cd08-4048-babd-bd4cff7a7754\",\"type\":\"DataRange1d\"},{\"attributes\":{\"callback\":null,\"renderers\":\"auto\",\"tooltips\":\"\\n\\n<div>\\n@label\\n</div>\\n\"},\"id\":\"ac3fa03f-35d4-43f1-acf0-aba4373e60b2\",\"type\":\"HoverTool\"},{\"attributes\":{\"formatter\":{\"id\":\"054e0c8a-53d5-48e8-94ea-b74aaf4aed5c\",\"type\":\"BasicTickFormatter\"},\"plot\":{\"id\":\"dbe023a1-11f5-4143-9109-c420a8c9f360\",\"subtype\":\"Figure\",\"type\":\"Plot\"},\"ticker\":{\"id\":\"421c2191-3a66-4653-b85e-45077793095d\",\"type\":\"BasicTicker\"}},\"id\":\"ab3ec614-9db8-4ae7-8aed-306c1888baff\",\"type\":\"LinearAxis\"},{\"attributes\":{},\"id\":\"2f02677e-3d05-4986-9111-1752d45f3502\",\"type\":\"UnionRenderers\"},{\"attributes\":{\"plot\":null,\"text\":\"Positions of philosophers\"},\"id\":\"d03bd734-bee7-4df3-83ef-9fd382939855\",\"type\":\"Title\"},{\"attributes\":{\"formatter\":{\"id\":\"71effe7f-7bb6-485d-b97e-e7f7800b364e\",\"type\":\"BasicTickFormatter\"},\"plot\":{\"id\":\"dbe023a1-11f5-4143-9109-c420a8c9f360\",\"subtype\":\"Figure\",\"type\":\"Plot\"},\"ticker\":{\"id\":\"af6062de-5593-4afd-94d4-d77cbd495c8f\",\"type\":\"BasicTicker\"}},\"id\":\"c4b94034-c4de-48a2-9e7d-6adbab399bec\",\"type\":\"LinearAxis\"},{\"attributes\":{\"callback\":null,\"data\":{\"index\":[0,1,2,3,4,5,6,7,8,9,10,11,12,13,14,15,16,17,18,19,20,21,22,23,24,25,26,27,28,29,30,31,32,33,34,35,36,37,38,39,40,41,42,43,44,45,46,47,48,49,50,51,52,53,54,55,56,57,58,59,60,61,62,63,64,65,66,67,68,69,70,71,72,73,74,75,76,77,78,79,80,81,82,83,84,85,86,87,88,89,90,91,92,93,94,95,96,97,98,99,100,101,102,103,104,105,106,107,108,109,110,111,112,113,114,115,116,117,118,119,120,121,122,123,124,125,126,127,128,129,130,131,132,133,134,135,136,137,138,139,140,141,142,143,144,145,146,147,148,149,150,151,152,153,154,155,156,157,158,159,160,161,162,163,164,165,166,167,168,169,170,171,172,173,174,175,176,177,178,179,180,181,182,183,184,185,186,187,188,189,190,191,192,193,194,195,196,197,198,199,200,201,202,203,204,205,206,207,208,209,210,211,212,213,214,215,216,217,218,219,220,221,222,223,224,225,226,227,228,229,230,231,232,233,234,235,236,237,238,239,240,241,242,243,244,245,246,247,248,249,250,251,252,253,254,255,256,257,258,259,260,261,262,263,264,265,266,267,268,269,270,271,272,273,274,275,276,277,278,279,280,281,282,283,284,285,286,287,288,289,290,291,292,293,294,295,296,297,298,299,300,301,302,303,304,305,306,307,308,309,310,311,312,313,314,315,316,317,318,319,320,321,322,323,324,325,326,327,328,329,330,331,332,333,334,335,336,337,338,339,340,341,342,343,344,345,346,347,348,349,350,351,352,353,354,355,356,357,358,359,360,361,362,363,364,365,366,367,368,369,370,371,372,373,374,375,376,377,378,379,380,381,382,383,384,385,386,387,388,389,390,391,392,393,394,395,396,397,398,399,400,401,402,403,404,405,406,407,408,409,410,411,412,413,414,415,416,417,418,419,420,421,422,423,424,425,426,427,428,429,430,431,432,433,434,435,436,437,438,439,440,441,442,443,444,445,446,447,448,449,450,451,452,453,454,455,456,457,458,459,460,461,462,463,464,465,466,467,468,469,470,471,472,473,474,475,476,477,478,479,480,481,482,483,484,485,486,487,488,489,490,491,492,493,494,495,496,497,498,499,500,501,502,503,504,505,506,507,508,509,510,511,512,513,514,515,516,517,518,519,520,521,522,523,524,525,526,527,528,529,530,531,532,533,534,535,536,537,538,539,540,541,542,543,544,545,546,547,548,549,550,551,552,553,554,555,556,557,558,559,560,561,562,563,564,565,566,567,568,569,570,571,572,573,574,575,576,577,578,579,580,581,582,583,584,585,586,587,588,589,590,591,592,593,594,595,596,597,598,599,600,601,602,603,604,605,606,607,608,609,610,611,612,613,614,615,616,617,618,619,620,621,622,623,624,625,626,627,628,629,630,631,632,633,634,635,636,637,638,639,640,641,642,643,644,645,646,647,648,649,650,651,652,653,654,655,656,657,658,659,660,661,662,663,664,665,666,667,668,669,670,671,672,673,674,675,676,677,678,679,680,681,682,683,684,685,686,687,688,689,690,691,692,693,694,695,696,697,698,699,700,701,702,703,704,705,706,707,708,709,710,711,712,713,714,715,716,717,718,719,720,721,722,723,724,725,726,727,728,729,730,731,732,733,734,735,736,737,738,739,740,741,742,743,744,745,746,747,748,749,750,751,752,753,754,755,756,757,758,759,760,761,762,763,764,765,766,767,768,769,770,771,772,773,774,775,776,777,778,779,780,781,782,783,784,785,786,787,788,789,790,791,792,793,794,795,796,797,798,799,800,801,802,803,804,805,806,807,808,809,810,811,812,813,814,815,816,817,818,819,820,821,822,823,824,825,826,827,828,829,830,831,832,833,834,835,836,837,838,839,840,841,842,843,844,845,846,847,848,849,850,851,852,853,854,855,856,857,858,859,860,861,862,863,864,865,866,867,868,869,870,871,872,873,874,875,876,877,878,879,880,881,882,883,884,885,886,887,888,889,890,891,892,893,894,895,896,897,898,899,900,901,902,903,904,905,906,907,908,909,910,911,912,913,914,915,916,917,918,919,920,921,922,923,924,925,926,927,928,929,930,931,932,933,934,935,936,937,938,939,940,941,942,943,944,945,946,947,948,949,950,951,952,953,954,955,956,957,958,959,960,961,962,963,964,965,966,967,968,969,970,971,972,973,974,975,976,977,978,979,980,981,982,983,984,985,986,987,988,989,990,991,992,993,994,995,996,997,998,999,1000,1001,1002,1003,1004,1005,1006,1007,1008,1009,1010,1011,1012,1013,1014,1015,1016,1017,1018,1019,1020,1021],\"label\":[\"blanshard\",\"hook\",\"mill\",\"windelband\",\"dretske\",\"caird\",\"hooker\",\"card\",\"albert\",\"theophrastus\",\"barry\",\"machiavelli\",\"oswald\",\"thompson\",\"budd\",\"knutzen\",\"silvestris\",\"millikan\",\"eberhard\",\"pearson\",\"n\\u00e6ss\",\"schr\\u00f6dinger\",\"fodor\",\"buhai\",\"wolterstorff\",\"sigwart\",\"younger\",\"adorno\",\"wyclif\",\"frankfurt\",\"lipsius\",\"casta\\u00f1eda\",\"luk\\u00e1cs\",\"porphyry\",\"sta\\u00ebl\",\"kepler\",\"novalis\",\"mcdougall\",\"parfit\",\"matthew\",\"aurelius\",\"b\\u00fcchner\",\"cassirer\",\"quine\",\"dewey\",\"irigaray\",\"martin\",\"fisher\",\"agrippa\",\"regius\",\"tsongkhapa\",\"godwin\",\"gaius\",\"archytas\",\"xiong\",\"shinran\",\"goethe\",\"wollaston\",\"jevons\",\"millar\",\"frankena\",\"gottsched\",\"sadra\",\"cixous\",\"petzoldt\",\"ayer\",\"aristotle\",\"constant\",\"olivecrona\",\"blair\",\"code\",\"bentley\",\"pomponazzi\",\"tuomela\",\"sorai\",\"apuleius\",\"iamblichus\",\"veatch\",\"hodgson\",\"bowne\",\"marx\",\"spiegelberg\",\"diderot\",\"henry\",\"ptolemy\",\"thrasymachus\",\"bergmann\",\"spinoza\",\"glover\",\"zermelo\",\"paracelsus\",\"medina\",\"david\",\"barnes\",\"democritus\",\"saussure\",\"zongmi\",\"bourdieu\",\"bhattacharya\",\"hippocrates\",\"geach\",\"mellor\",\"gournay\",\"halevi\",\"hamilton\",\"ahmed\",\"aristippus\",\"wright\",\"clifford\",\"lewin\",\"bossuet\",\"cratylus\",\"stich\",\"shi\",\"stanton\",\"nemesius\",\"diogenes\",\"fuller\",\"masham\",\"cicero\",\"cockburn\",\"sarkar\",\"baker\",\"herder\",\"strawson\",\"rawls\",\"anthony\",\"chu\",\"lotze\",\"tibbon\",\"butler\",\"arcesilaus\",\"hacking\",\"digby\",\"plantinga\",\"stoic\",\"ross\",\"perry\",\"bold\",\"melissus\",\"warnock\",\"james\",\"russell\",\"kan\",\"kneale\",\"watts\",\"anaxagoras\",\"ferrier\",\"hartshorne\",\"leon\",\"cournot\",\"hick\",\"ramus\",\"regis\",\"bohm\",\"lacan\",\"riemann\",\"sidgwick\",\"stebbing\",\"twardowski\",\"goodman\",\"charleton\",\"dialectician\",\"prior\",\"law\",\"tracy\",\"hayek\",\"lange\",\"pata\\u00f1jali\",\"reinach\",\"winch\",\"marston\",\"astell\",\"blackburn\",\"areopagite\",\"humboldt\",\"kierkegaard\",\"schleiermacher\",\"newton\",\"ward\",\"hart\",\"mercier\",\"benn\",\"keiji\",\"gaon\",\"couturat\",\"charron\",\"beattie\",\"gerson\",\"boltzmann\",\"simon\",\"evans\",\"copernicus\",\"davidson\",\"palmer\",\"gurwitsch\",\"arnauld\",\"plato\",\"schumpeter\",\"bentham\",\"numenius\",\"macintyre\",\"maupertuis\",\"brunschvicg\",\"augustine\",\"ginsberg\",\"jefferson\",\"wong\",\"eriugena\",\"hypatia\",\"eudoxus\",\"peacocke\",\"grand\",\"sceptic\",\"lakatos\",\"morgan\",\"murphy\",\"vitoria\",\"tempels\",\"peirce\",\"victorinus\",\"peter\",\"caso\",\"welby\",\"alcinous\",\"erasmus\",\"fourier\",\"pavlov\",\"derrida\",\"nasr\",\"heisenberg\",\"fludd\",\"pyrrho\",\"tillich\",\"lombard\",\"thomasius\",\"freud\",\"four\",\"burckhardt\",\"theodorus\",\"anaximander\",\"foot\",\"gassendi\",\"locke\",\"carneades\",\"albo\",\"calcidius\",\"costa\",\"ruse\",\"hartmann\",\"andronicus\",\"krueger\",\"venn\",\"bi\",\"frank\",\"avenarius\",\"young\",\"bernier\",\"philo\",\"bonnet\",\"cudworth\",\"collier\",\"nicole\",\"cleanthes\",\"neurath\",\"beck\",\"h\\u00f6lderlin\",\"vanini\",\"duhem\",\"wodeham\",\"rorty\",\"j\\u00f8rgensen\",\"brito\",\"yu\",\"ruge\",\"bohr\",\"marcel\",\"fink\",\"maritain\",\"harding\",\"royce\",\"nietzsche\",\"agricola\",\"grossmann\",\"fischer\",\"syrianus\",\"feyerabend\",\"singer\",\"hutcheson\",\"protagoras\",\"xenocrates\",\"ambrose\",\"paquda\",\"delmedigo\",\"black\",\"einstein\",\"george\",\"milton\",\"gettier\",\"gauthier\",\"william\",\"wolff\",\"epictetus\",\"chamberlain\",\"\\u0142ukasiewicz\",\"kilwardby\",\"hamlyn\",\"shestov\",\"addison\",\"bakunin\",\"stirling\",\"wollheim\",\"boscovich\",\"dworkin\",\"hornsby\",\"gewirth\",\"fanon\",\"posner\",\"thomson\",\"boutroux\",\"croce\",\"alyngton\",\"biel\",\"barth\",\"littr\\u00e9\",\"montague\",\"middleton\",\"gaunilo\",\"yan\",\"santayana\",\"tetens\",\"inwagen\",\"campanella\",\"clarke\",\"babbage\",\"bennett\",\"faraday\",\"porter\",\"anaximenes\",\"philoponus\",\"trendelenburg\",\"solution\",\"hazlitt\",\"scheler\",\"langer\",\"cartwright\",\"burge\",\"fechner\",\"peters\",\"gerard\",\"sainsbury\",\"forge\",\"saccas\",\"edward\",\"sartwell\",\"prichard\",\"k\\u00f6hler\",\"bruno\",\"anselm\",\"brown\",\"collingwood\",\"arendt\",\"newman\",\"whewell\",\"rashdall\",\"scaliger\",\"telesio\",\"broad\",\"gibbs\",\"dubos\",\"hugh\",\"lichtenberg\",\"antiphon\",\"reid\",\"bayle\",\"falaquera\",\"calvin\",\"popper\",\"herzen\",\"schopenhauer\",\"varela\",\"ferguson\",\"brandt\",\"frye\",\"paley\",\"taurellus\",\"nagel\",\"post\",\"lambert\",\"gilson\",\"mcdowell\",\"pf\\u00e4nder\",\"chardin\",\"aenesidemus\",\"joachim\",\"feldman\",\"maimonides\",\"gersonides\",\"kafka\",\"lucas\",\"green\",\"ehrenfels\",\"maimon\",\"lavoisier\",\"kames\",\"carlyle\",\"jung\",\"daud\",\"stephen\",\"lorenzen\",\"marty\",\"gabirol\",\"plekhanov\",\"berdyaev\",\"fichte\",\"jackson\",\"savigny\",\"helmholtz\",\"wittgenstein\",\"kenny\",\"petrarch\",\"antiochus\",\"hare\",\"sabin\",\"rosenzweig\",\"confucius\",\"feinberg\",\"godfrey\",\"rousseau\",\"epicurus\",\"holcot\",\"heim\",\"homer\",\"arabi\",\"harvey\",\"toland\",\"beardsley\",\"fazang\",\"lessing\",\"olivi\",\"invincible\",\"timon\",\"alison\",\"tye\",\"peano\",\"stewart\",\"hilbert\",\"meinecke\",\"hume\",\"pareto\",\"kant\",\"isocrates\",\"skinner\",\"tarski\",\"dilthey\",\"tschirnhaus\",\"zi\",\"hao\",\"reich\",\"belnap\",\"schiller\",\"habermas\",\"chisholm\",\"hobhouse\",\"lamarck\",\"hyppolite\",\"malraux\",\"hanslick\",\"hasan\",\"driesch\",\"swedenborg\",\"czolbe\",\"lyotard\",\"cajetan\",\"israeli\",\"whichcote\",\"aristo\",\"kilvington\",\"thucydides\",\"stirner\",\"yang\",\"aquinas\",\"burley\",\"baier\",\"natorp\",\"stace\",\"huxley\",\"cairns\",\"levinas\",\"cronus\",\"sprigge\",\"stumpf\",\"whitehead\",\"alcmaeon\",\"udayana\",\"rescher\",\"kim\",\"churchland\",\"origen\",\"garve\",\"lycan\",\"spengler\",\"bradwardine\",\"xenophanes\",\"heraclitus\",\"hung\",\"griffin\",\"bryce\",\"romero\",\"ducasse\",\"morales\",\"schweitzer\",\"smart\",\"gobineau\",\"yi\",\"tennant\",\"pope\",\"stevenson\",\"hohfeld\",\"feuerbach\",\"meinong\",\"bergson\",\"carus\",\"thierry\",\"campbell\",\"temple\",\"nancy\",\"duran\",\"kaufmann\",\"vives\",\"yangming\",\"averroes\",\"callicles\",\"chrysippus\",\"scotus\",\"jaspers\",\"plotinus\",\"socrates\",\"norris\",\"fraassen\",\"gandhi\",\"stove\",\"voltaire\",\"ryle\",\"wiggins\",\"white\",\"bilfinger\",\"filmer\",\"magnus\",\"ingarden\",\"pelagius\",\"percival\",\"apel\",\"galilei\",\"buddhaghosa\",\"montaigne\",\"horwich\",\"simplicius\",\"sosa\",\"dao\",\"amo\",\"spivak\",\"brouwer\",\"bernstein\",\"danto\",\"corbin\",\"empedocles\",\"rohde\",\"ji\",\"bernard\",\"niebuhr\",\"steiner\",\"vasubandhu\",\"pascal\",\"teresa\",\"williamson\",\"proclus\",\"xi\",\"searle\",\"clerc\",\"turing\",\"bradley\",\"balfour\",\"chomsky\",\"hobbes\",\"bullough\",\"eliot\",\"gadamer\",\"nozick\",\"stroud\",\"thales\",\"richard\",\"alexander\",\"adler\",\"soto\",\"la\\u00ebrtius\",\"berlin\",\"priestley\",\"wilson\",\"zeller\",\"lehrer\",\"fang\",\"gilbert\",\"maxwell\",\"kraus\",\"cavell\",\"schelling\",\"conway\",\"binswanger\",\"harrington\",\"burnyeat\",\"liebmann\",\"rehberg\",\"mally\",\"anderson\",\"mirandola\",\"scanlon\",\"xenophon\",\"dharmakirti\",\"schurman\",\"baudrillard\",\"richards\",\"koj\\u00e8ve\",\"longzi\",\"hegel\",\"rufus\",\"dennett\",\"mounier\",\"crescas\",\"helmont\",\"allah\",\"maistre\",\"feizi\",\"burke\",\"moore\",\"schneewind\",\"badiou\",\"buridan\",\"frede\",\"finetti\",\"toledo\",\"husserl\",\"mather\",\"grice\",\"xxi\",\"brentano\",\"llull\",\"bodin\",\"eco\",\"salmon\",\"tzu\",\"damian\",\"mccosh\",\"putnam\",\"nelson\",\"philolaus\",\"westermarck\",\"desgabets\",\"lefebvre\",\"speusippus\",\"ajdukiewicz\",\"damad\",\"antisthenes\",\"fogelin\",\"marsilius\",\"planck\",\"miller\",\"scruton\",\"cohen\",\"elias\",\"francis\",\"gautama\",\"giles\",\"grote\",\"helv\\u00e9tius\",\"kripke\",\"paul\",\"rickert\",\"wallace\",\"keynes\",\"darwin\",\"carnap\",\"leucippus\",\"grotius\",\"piaget\",\"lipps\",\"nicholas\",\"walzer\",\"harris\",\"vlastos\",\"montgomery\",\"mackie\",\"nicolai\",\"buber\",\"crathorn\",\"hartley\",\"fontenelle\",\"boole\",\"batteux\",\"harman\",\"holt\",\"grosseteste\",\"wahl\",\"foucher\",\"brightman\",\"paine\",\"sergeant\",\"sneed\",\"gregory\",\"arius\",\"quinton\",\"held\",\"reichenbach\",\"razan\",\"saul\",\"hintikka\",\"chen\",\"stalnaker\",\"natalis\",\"malcolm\",\"alston\",\"mcginn\",\"glanvill\",\"vico\",\"blake\",\"aureol\",\"otto\",\"uddyotakara\",\"descartes\",\"bolingbroke\",\"tocqueville\",\"panaetius\",\"anscombe\",\"stout\",\"hesiod\",\"weyl\",\"weber\",\"kelsen\",\"heidegger\",\"huygens\",\"owen\",\"gentile\",\"more\",\"bertalanffy\",\"gorgias\",\"judah\",\"ramsey\",\"mandeville\",\"althusser\",\"emerson\",\"smullyan\",\"trotsky\",\"engels\",\"cavendish\",\"kropotkin\",\"beauvoir\",\"plessner\",\"major\",\"althusius\",\"mendel\",\"boethius\",\"spencer\",\"bosanquet\",\"gill\",\"durkheim\",\"malthus\",\"kronecker\",\"rand\",\"nussbaum\",\"blackstone\",\"elster\",\"boyle\",\"sellars\",\"meier\",\"marcuse\",\"rohault\",\"man\",\"marcus\",\"earman\",\"unamuno\",\"melanchthon\",\"austin\",\"carmichael\",\"avicenna\",\"arnold\",\"pizan\",\"eusebius\",\"lucretius\",\"ostwald\",\"leibniz\",\"poincar\\u00e9\",\"sen\",\"wang\",\"bonaventure\",\"carroll\",\"barthes\",\"oresme\",\"moritz\",\"abelard\",\"bataille\",\"kuhn\",\"taylor\",\"mersenne\",\"gentzen\",\"hampshire\",\"swinburne\",\"chancellor\",\"posidonius\",\"bolzano\",\"raymond\",\"damascius\",\"timaeus\",\"wundt\",\"hertz\",\"collins\",\"church\",\"bridgman\",\"armstrong\",\"kaspi\",\"wisdom\",\"su\\u00e1rez\",\"bain\",\"unger\",\"kaplan\",\"jinsai\",\"comte\",\"geulincx\",\"meyerson\",\"rochefoucauld\",\"kotarbi\\u0144ski\",\"le\\u015bniewski\",\"banzan\",\"stein\",\"mendelssohn\",\"raz\",\"schacht\",\"berkeley\",\"skolem\",\"lovejoy\",\"cordemoy\",\"oakeshott\",\"ezra\",\"gray\",\"paulsen\",\"hanson\",\"pufendorf\",\"williams\",\"dietrich\",\"horkheimer\",\"troeltsch\",\"luther\",\"franklin\",\"tugendhat\",\"jeffrey\",\"schlegel\",\"condillac\",\"mctaggart\",\"deleuze\",\"irwin\",\"schlick\",\"empiricus\",\"murdoch\",\"polanyi\",\"sober\",\"foucault\",\"biran\",\"zeno\",\"molina\",\"papineau\",\"zhong\",\"smith\",\"field\",\"bellarmine\",\"bultmann\",\"eddington\",\"bachelard\",\"bacon\",\"eckhart\",\"mead\",\"montesquieu\",\"dummett\",\"hempel\",\"mu\",\"feenberg\",\"capreolus\",\"canguilhem\",\"lloyd\",\"nifo\",\"xiang\",\"proudhon\",\"b\\u00f6hme\",\"hippias\",\"roy\",\"thomas\",\"waismann\",\"gay\",\"benjamin\",\"brunner\",\"galen\",\"frege\",\"elisabeth\",\"hillel\",\"finnis\",\"pears\",\"cantor\",\"gibbard\",\"tertullian\",\"buffon\",\"g\\u00f6del\",\"camus\",\"zabarella\",\"shoemaker\",\"linnaeus\",\"zalta\",\"strauss\",\"condorcet\",\"passmore\",\"lewis\",\"hamann\",\"isaac\",\"petrizi\",\"tolstoy\",\"schulze\",\"ulrich\",\"cousin\",\"penbygull\",\"ray\",\"vaihinger\",\"israel\",\"pound\",\"sandel\",\"themistius\",\"herschel\",\"pauling\",\"clement\",\"lenin\",\"anaxarchus\",\"baumgarten\",\"price\",\"parker\",\"philodemus\",\"kreisel\",\"mettrie\",\"valla\",\"mannheim\",\"yen\",\"kammuna\",\"mozi\",\"fonseca\",\"gasset\",\"blondel\",\"mencius\",\"reinhold\",\"soames\",\"herbart\",\"crusius\",\"cardano\",\"krause\",\"nahmanides\",\"watson\",\"lavater\",\"kautsky\",\"epicharmus\",\"simmel\",\"sartre\",\"malebranche\",\"thoreau\",\"mach\",\"wollstonecraft\",\"wiredu\",\"weil\",\"dedekind\",\"arrow\",\"proust\",\"lucian\",\"martineau\",\"adams\",\"tucker\",\"bauer\",\"parmenides\",\"ricardo\",\"laplace\",\"celsus\",\"roman\",\"goldman\",\"john\",\"korn\",\"vinci\",\"masaryk\",\"grisez\",\"coleridge\",\"fries\",\"neumann\",\"alighieri\",\"haeckel\",\"huet\",\"hepburn\",\"bloch\",\"vattimo\",\"chwistek\",\"k\\u00fclpe\",\"yuan\",\"edwards\",\"cherso\",\"browne\",\"johnson\",\"jacobi\",\"west\",\"pythagoras\",\"hajime\",\"ficino\",\"ramanuja\",\"chatton\",\"f\\u00f8llesdal\",\"ch\\u00e2telet\",\"blanchot\",\"kristeva\",\"braithwaite\",\"schmitt\",\"kitcher\",\"block\",\"hess\"],\"x\":{\"__ndarray__\":\"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\",\"dtype\":\"float32\",\"shape\":[1022]},\"y\":{\"__ndarray__\":\"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\",\"dtype\":\"float32\",\"shape\":[1022]}},\"selected\":{\"id\":\"78e76877-5831-4153-a693-7d34769c6558\",\"type\":\"Selection\"},\"selection_policy\":{\"id\":\"2f02677e-3d05-4986-9111-1752d45f3502\",\"type\":\"UnionRenderers\"}},\"id\":\"ed516a13-1559-4b63-a520-9dcd7a3eebd2\",\"type\":\"ColumnDataSource\"},{\"attributes\":{},\"id\":\"71effe7f-7bb6-485d-b97e-e7f7800b364e\",\"type\":\"BasicTickFormatter\"},{\"attributes\":{},\"id\":\"069c10a6-db6d-44cb-adb8-ed55807f4aaf\",\"type\":\"LinearScale\"},{\"attributes\":{},\"id\":\"e964abd9-e623-495f-9001-669b3440ebbf\",\"type\":\"PanTool\"},{\"attributes\":{\"active_drag\":\"auto\",\"active_inspect\":\"auto\",\"active_multi\":null,\"active_scroll\":\"auto\",\"active_tap\":\"auto\",\"tools\":[{\"id\":\"e964abd9-e623-495f-9001-669b3440ebbf\",\"type\":\"PanTool\"},{\"id\":\"e955d0b7-40fa-4109-9cdf-4fff8cbce58e\",\"type\":\"WheelZoomTool\"},{\"id\":\"152962b4-750b-47b8-b2ec-2e938970eb00\",\"type\":\"ResetTool\"},{\"id\":\"dd2e84cc-9b7a-418b-9a01-8166a466c41c\",\"type\":\"LassoSelectTool\"},{\"id\":\"ac3fa03f-35d4-43f1-acf0-aba4373e60b2\",\"type\":\"HoverTool\"}]},\"id\":\"b0fa1de1-1826-4684-a301-2e3ae92ec2fb\",\"type\":\"Toolbar\"},{\"attributes\":{},\"id\":\"af6062de-5593-4afd-94d4-d77cbd495c8f\",\"type\":\"BasicTicker\"},{\"attributes\":{\"callback\":null,\"overlay\":{\"id\":\"b0e27d0b-cebc-4e0c-8d0d-8758f8afb43d\",\"type\":\"PolyAnnotation\"}},\"id\":\"dd2e84cc-9b7a-418b-9a01-8166a466c41c\",\"type\":\"LassoSelectTool\"},{\"attributes\":{\"callback\":null},\"id\":\"5069de6c-6c7d-4aea-b719-c36ad7ec5182\",\"type\":\"DataRange1d\"},{\"attributes\":{},\"id\":\"78e76877-5831-4153-a693-7d34769c6558\",\"type\":\"Selection\"},{\"attributes\":{},\"id\":\"054e0c8a-53d5-48e8-94ea-b74aaf4aed5c\",\"type\":\"BasicTickFormatter\"},{\"attributes\":{\"data_source\":{\"id\":\"ed516a13-1559-4b63-a520-9dcd7a3eebd2\",\"type\":\"ColumnDataSource\"},\"glyph\":{\"id\":\"9d8ff35c-e8e3-48a1-8a55-287317c2b14b\",\"type\":\"Circle\"},\"hover_glyph\":null,\"muted_glyph\":null,\"nonselection_glyph\":{\"id\":\"4fd312b3-cf59-48cd-b446-17123d1d34a3\",\"type\":\"Circle\"},\"selection_glyph\":null,\"view\":{\"id\":\"284338c0-a4cf-4c5a-b930-e3fb3bc8739b\",\"type\":\"CDSView\"}},\"id\":\"9a424c31-af46-4e37-9330-0b6eef650124\",\"type\":\"GlyphRenderer\"},{\"attributes\":{},\"id\":\"421c2191-3a66-4653-b85e-45077793095d\",\"type\":\"BasicTicker\"},{\"attributes\":{\"plot\":{\"id\":\"dbe023a1-11f5-4143-9109-c420a8c9f360\",\"subtype\":\"Figure\",\"type\":\"Plot\"},\"ticker\":{\"id\":\"421c2191-3a66-4653-b85e-45077793095d\",\"type\":\"BasicTicker\"}},\"id\":\"adcdb141-6c48-42e7-921e-3a407371b801\",\"type\":\"Grid\"},{\"attributes\":{\"below\":[{\"id\":\"ab3ec614-9db8-4ae7-8aed-306c1888baff\",\"type\":\"LinearAxis\"}],\"left\":[{\"id\":\"c4b94034-c4de-48a2-9e7d-6adbab399bec\",\"type\":\"LinearAxis\"}],\"plot_width\":900,\"renderers\":[{\"id\":\"ab3ec614-9db8-4ae7-8aed-306c1888baff\",\"type\":\"LinearAxis\"},{\"id\":\"adcdb141-6c48-42e7-921e-3a407371b801\",\"type\":\"Grid\"},{\"id\":\"c4b94034-c4de-48a2-9e7d-6adbab399bec\",\"type\":\"LinearAxis\"},{\"id\":\"4665f95e-8aeb-474f-b6a1-e3f6579ce7ae\",\"type\":\"Grid\"},{\"id\":\"b0e27d0b-cebc-4e0c-8d0d-8758f8afb43d\",\"type\":\"PolyAnnotation\"},{\"id\":\"9a424c31-af46-4e37-9330-0b6eef650124\",\"type\":\"GlyphRenderer\"}],\"title\":{\"id\":\"d03bd734-bee7-4df3-83ef-9fd382939855\",\"type\":\"Title\"},\"toolbar\":{\"id\":\"b0fa1de1-1826-4684-a301-2e3ae92ec2fb\",\"type\":\"Toolbar\"},\"x_range\":{\"id\":\"5069de6c-6c7d-4aea-b719-c36ad7ec5182\",\"type\":\"DataRange1d\"},\"x_scale\":{\"id\":\"e25d1d3d-ce3d-426f-bbfe-1beb627f46a6\",\"type\":\"LinearScale\"},\"y_range\":{\"id\":\"f193c3a8-cd08-4048-babd-bd4cff7a7754\",\"type\":\"DataRange1d\"},\"y_scale\":{\"id\":\"069c10a6-db6d-44cb-adb8-ed55807f4aaf\",\"type\":\"LinearScale\"}},\"id\":\"dbe023a1-11f5-4143-9109-c420a8c9f360\",\"subtype\":\"Figure\",\"type\":\"Plot\"},{\"attributes\":{},\"id\":\"152962b4-750b-47b8-b2ec-2e938970eb00\",\"type\":\"ResetTool\"},{\"attributes\":{\"source\":{\"id\":\"ed516a13-1559-4b63-a520-9dcd7a3eebd2\",\"type\":\"ColumnDataSource\"}},\"id\":\"284338c0-a4cf-4c5a-b930-e3fb3bc8739b\",\"type\":\"CDSView\"},{\"attributes\":{\"fill_alpha\":{\"value\":0.1},\"fill_color\":{\"value\":\"#1f77b4\"},\"line_alpha\":{\"value\":0.1},\"line_color\":{\"value\":\"#1f77b4\"},\"size\":{\"units\":\"screen\",\"value\":5},\"x\":{\"field\":\"x\"},\"y\":{\"field\":\"y\"}},\"id\":\"4fd312b3-cf59-48cd-b446-17123d1d34a3\",\"type\":\"Circle\"},{\"attributes\":{},\"id\":\"e955d0b7-40fa-4109-9cdf-4fff8cbce58e\",\"type\":\"WheelZoomTool\"},{\"attributes\":{},\"id\":\"e25d1d3d-ce3d-426f-bbfe-1beb627f46a6\",\"type\":\"LinearScale\"},{\"attributes\":{\"fill_alpha\":{\"value\":0.5},\"fill_color\":{\"value\":\"lightgrey\"},\"level\":\"overlay\",\"line_alpha\":{\"value\":1.0},\"line_color\":{\"value\":\"black\"},\"line_dash\":[4,4],\"line_width\":{\"value\":2},\"plot\":null,\"xs_units\":\"screen\",\"ys_units\":\"screen\"},\"id\":\"b0e27d0b-cebc-4e0c-8d0d-8758f8afb43d\",\"type\":\"PolyAnnotation\"}],\"root_ids\":[\"dbe023a1-11f5-4143-9109-c420a8c9f360\"]},\"title\":\"Bokeh Application\",\"version\":\"0.13.0\"}};\n",
       "  var render_items = [{\"docid\":\"03b6fa35-23cf-443e-b2a0-99675512cd9a\",\"roots\":{\"dbe023a1-11f5-4143-9109-c420a8c9f360\":\"af2f4437-312f-45aa-956e-222d246b4a80\"}}];\n",
       "  root.Bokeh.embed.embed_items_notebook(docs_json, render_items);\n",
       "\n",
       "  }\n",
       "  if (root.Bokeh !== undefined) {\n",
       "    embed_document(root);\n",
       "  } else {\n",
       "    var attempts = 0;\n",
       "    var timer = setInterval(function(root) {\n",
       "      if (root.Bokeh !== undefined) {\n",
       "        embed_document(root);\n",
       "        clearInterval(timer);\n",
       "      }\n",
       "      attempts++;\n",
       "      if (attempts > 100) {\n",
       "        console.log(\"Bokeh: ERROR: Unable to run BokehJS code because BokehJS library is missing\")\n",
       "        clearInterval(timer);\n",
       "      }\n",
       "    }, 10, root)\n",
       "  }\n",
       "})(window);"
      ],
      "application/vnd.bokehjs_exec.v0+json": ""
     },
     "metadata": {
      "application/vnd.bokehjs_exec.v0+json": {
       "id": "dbe023a1-11f5-4143-9109-c420a8c9f360"
      }
     },
     "output_type": "display_data"
    }
   ],
   "source": [
    "from bokeh.plotting import figure, show, output_notebook#,  output_file\n",
    "from bokeh.models import HoverTool, ColumnDataSource, CategoricalColorMapper\n",
    "from bokeh.palettes import Spectral10\n",
    "\n",
    "output_notebook()\n",
    "# output_file('embedded_bigram_timeseries_bokeh.html')\n",
    "\n",
    "#TOOLS=\"hover,crosshair,pan,wheel_zoom,zoom_in,zoom_out,box_zoom,undo,redo,reset,tap,save,box_select,poly_select,lasso_select,\"\n",
    "p = figure(title='Positions of philosophers',\n",
    "    plot_width=900,\n",
    "    plot_height=600,\n",
    "    tools=('pan, wheel_zoom, reset','lasso_select'))\n",
    "\n",
    "p.add_tools(HoverTool(tooltips=\"\"\"\n",
    "\n",
    "<div>\n",
    "@label\n",
    "</div>\n",
    "\"\"\"))\n",
    "\n",
    "p.scatter(x='x', y='y',source=embedding_df, fill_color='#483D8B', fill_alpha=0.6,size=5, line_color=None)\n",
    "\n",
    "show(p)\n"
   ]
  },
  {
   "cell_type": "code",
   "execution_count": null,
   "metadata": {},
   "outputs": [],
   "source": []
  }
 ],
 "metadata": {
  "kernel_info": {
   "name": "python3"
  },
  "kernelspec": {
   "display_name": "Python 3",
   "language": "python",
   "name": "python3"
  },
  "language_info": {
   "codemirror_mode": {
    "name": "ipython",
    "version": 3
   },
   "file_extension": ".py",
   "mimetype": "text/x-python",
   "name": "python",
   "nbconvert_exporter": "python",
   "pygments_lexer": "ipython3",
   "version": "3.6.3"
  },
  "nteract": {
   "version": "0.11.6"
  }
 },
 "nbformat": 4,
 "nbformat_minor": 2
}
